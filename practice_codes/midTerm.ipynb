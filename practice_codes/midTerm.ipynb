{
 "cells": [
  {
   "cell_type": "code",
   "execution_count": 36,
   "metadata": {},
   "outputs": [
    {
     "name": "stdout",
     "output_type": "stream",
     "text": [
      "-1.5136049906158564\n"
     ]
    }
   ],
   "source": [
    "# Task no 1\n",
    "import math\n",
    "X = int(input(\"Please Enter the value of X: \"))\n",
    "\n",
    "if X > 0:\n",
    "    print(2 * math.sin(X))\n",
    "else:\n",
    "    print(6 - X)"
   ]
  },
  {
   "cell_type": "code",
   "execution_count": 38,
   "metadata": {},
   "outputs": [
    {
     "data": {
      "text/plain": [
       "1.7160000000000002"
      ]
     },
     "execution_count": 38,
     "metadata": {},
     "output_type": "execute_result"
    }
   ],
   "source": [
    "#Task no 2\n",
    "def calculate_product(N):\n",
    "    product = 1.0\n",
    "    for i in range(1, N + 1):\n",
    "        product *= (1 + 0.1 * i)\n",
    "    return product \n",
    "\n",
    "calculate_product(3)\n"
   ]
  },
  {
   "cell_type": "code",
   "execution_count": 40,
   "metadata": {},
   "outputs": [
    {
     "data": {
      "text/plain": [
       "6"
      ]
     },
     "execution_count": 40,
     "metadata": {},
     "output_type": "execute_result"
    }
   ],
   "source": [
    "#Task no 3\n",
    "def calculate_sum(K,N):\n",
    "    total_sum = sum(i**K for i in range(1, N + 1))\n",
    "    return total_sum\n",
    "\n",
    "calculate_sum(1,3)"
   ]
  },
  {
   "cell_type": "code",
   "execution_count": 35,
   "metadata": {},
   "outputs": [
    {
     "name": "stdout",
     "output_type": "stream",
     "text": [
      "-1\n",
      "-67\n"
     ]
    }
   ],
   "source": [
    "#Task no 4\n",
    "A = [-1,7,8,9,0,-67]\n",
    "\n",
    "for x in A:\n",
    "    if x < 0 :\n",
    "        print(x)"
   ]
  },
  {
   "cell_type": "code",
   "execution_count": 14,
   "metadata": {},
   "outputs": [
    {
     "name": "stdout",
     "output_type": "stream",
     "text": [
      "9.489897948556635\n"
     ]
    }
   ],
   "source": [
    "#Task 5\n",
    "import math\n",
    "K = float(input(\"Enter the value of K: \"))\n",
    "\n",
    "S = 3 ** K + math.sqrt(K+4)/5\n",
    "\n",
    "print(S)"
   ]
  },
  {
   "cell_type": "code",
   "execution_count": null,
   "metadata": {},
   "outputs": [],
   "source": []
  },
  {
   "cell_type": "code",
   "execution_count": null,
   "metadata": {},
   "outputs": [],
   "source": [
    "\n"
   ]
  }
 ],
 "metadata": {
  "kernelspec": {
   "display_name": "Python 3",
   "language": "python",
   "name": "python3"
  },
  "language_info": {
   "codemirror_mode": {
    "name": "ipython",
    "version": 3
   },
   "file_extension": ".py",
   "mimetype": "text/x-python",
   "name": "python",
   "nbconvert_exporter": "python",
   "pygments_lexer": "ipython3",
   "version": "3.12.0"
  }
 },
 "nbformat": 4,
 "nbformat_minor": 2
}
