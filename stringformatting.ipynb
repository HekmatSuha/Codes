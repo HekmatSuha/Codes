{
 "cells": [
  {
   "cell_type": "code",
   "execution_count": 1,
   "metadata": {},
   "outputs": [
    {
     "name": "stdout",
     "output_type": "stream",
     "text": [
      "This is a string INSERTED\n"
     ]
    }
   ],
   "source": [
    "print('This is a string {}'.format('INSERTED'))"
   ]
  },
  {
   "cell_type": "code",
   "execution_count": 2,
   "metadata": {},
   "outputs": [
    {
     "name": "stdout",
     "output_type": "stream",
     "text": [
      "Ths fox Dog Cat\n"
     ]
    }
   ],
   "source": [
    "print('Ths {} {} {}'.format('fox','Dog','Cat'))"
   ]
  },
  {
   "cell_type": "code",
   "execution_count": 6,
   "metadata": {},
   "outputs": [
    {
     "name": "stdout",
     "output_type": "stream",
     "text": [
      "The Cat Dog fox\n"
     ]
    }
   ],
   "source": [
    "print('The {2} {1} {0}'.format('fox','Dog','Cat'))"
   ]
  },
  {
   "cell_type": "code",
   "execution_count": 7,
   "metadata": {},
   "outputs": [
    {
     "name": "stdout",
     "output_type": "stream",
     "text": [
      "The fox fox fox\n"
     ]
    }
   ],
   "source": [
    "print('The {0} {0} {0}'.format('fox','Dog','Cat'))"
   ]
  },
  {
   "cell_type": "code",
   "execution_count": 8,
   "metadata": {},
   "outputs": [
    {
     "name": "stdout",
     "output_type": "stream",
     "text": [
      "The fox Dog Cat\n"
     ]
    }
   ],
   "source": [
    "print('The {f} {q} {m}'.format(f='fox',q='Dog',m='Cat'))"
   ]
  },
  {
   "cell_type": "code",
   "execution_count": 12,
   "metadata": {},
   "outputs": [
    {
     "name": "stdout",
     "output_type": "stream",
     "text": [
      "The result is 12.9870\n"
     ]
    }
   ],
   "source": [
    "result=1000/77\n",
    "print('The result is {r:1.4f}'.format(r=result))"
   ]
  },
  {
   "cell_type": "code",
   "execution_count": 15,
   "metadata": {},
   "outputs": [
    {
     "name": "stdout",
     "output_type": "stream",
     "text": [
      "Hello,My name is Hekmat\n"
     ]
    }
   ],
   "source": [
    "name = 'Hekmat'\n",
    "print(f'Hello,My name is {name}')"
   ]
  }
 ],
 "metadata": {
  "kernelspec": {
   "display_name": "Python 3",
   "language": "python",
   "name": "python3"
  },
  "language_info": {
   "codemirror_mode": {
    "name": "ipython",
    "version": 3
   },
   "file_extension": ".py",
   "mimetype": "text/x-python",
   "name": "python",
   "nbconvert_exporter": "python",
   "pygments_lexer": "ipython3",
   "version": "3.12.0"
  }
 },
 "nbformat": 4,
 "nbformat_minor": 2
}
