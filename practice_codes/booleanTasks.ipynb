{
 "cells": [
  {
   "cell_type": "code",
   "execution_count": 1,
   "metadata": {},
   "outputs": [
    {
     "name": "stdout",
     "output_type": "stream",
     "text": [
      "Is the number A positive? True\n"
     ]
    }
   ],
   "source": [
    "#task no 1\n",
    "def is_positive():\n",
    "    A = int(input(\"Enter an interger A: \"))\n",
    "    \n",
    "    return A>0\n",
    "\n",
    "print(\"Is the number A positive?\", is_positive())"
   ]
  },
  {
   "cell_type": "code",
   "execution_count": 2,
   "metadata": {},
   "outputs": [
    {
     "name": "stdout",
     "output_type": "stream",
     "text": [
      "Is the number A positive? True\n"
     ]
    }
   ],
   "source": [
    "#Task no 2\n",
    "def is_odd():\n",
    "    A = int(input(\"Enter an interger A: \"))\n",
    "\n",
    "    return A % 2 != 0 \n",
    "\n",
    "print(\"Is the number A odd?\", is_odd())"
   ]
  },
  {
   "cell_type": "code",
   "execution_count": 4,
   "metadata": {},
   "outputs": [
    {
     "name": "stdout",
     "output_type": "stream",
     "text": [
      "Is the number A even? False\n"
     ]
    }
   ],
   "source": [
    "#Task no 3\n",
    "def is_even():\n",
    "    A = int(input(\"Enter an interger A: \"))\n",
    "    \n",
    "    return A % 2 == 0\n",
    "\n",
    "print(\"Is the number A even?\",is_even())"
   ]
  },
  {
   "cell_type": "code",
   "execution_count": 6,
   "metadata": {},
   "outputs": [
    {
     "name": "stdout",
     "output_type": "stream",
     "text": [
      "Are the inequalities A > 2 and B ≤ 3 valid? False\n"
     ]
    }
   ],
   "source": [
    "#Task no 4\n",
    "def check_inequalities():\n",
    "    A = int(input(\"Enter integer A: \"))\n",
    "    B = int(input(\"Enter integer B: \"))\n",
    "    \n",
    "    return A > 2 and B <= 3\n",
    "\n",
    "print(\"Are the inequalities A > 2 and B ≤ 3 valid?\", check_inequalities())"
   ]
  },
  {
   "cell_type": "code",
   "execution_count": 7,
   "metadata": {},
   "outputs": [
    {
     "name": "stdout",
     "output_type": "stream",
     "text": [
      "Are the inequalities A ≥ 0 or B < -2 valid? True\n"
     ]
    }
   ],
   "source": [
    "#Task no 5\n",
    "def check_alternate_inequalities():\n",
    "    A = int(input(\"Enter integer A: \"))\n",
    "    B = int(input(\"Enter integer B: \"))\n",
    "    \n",
    "    return A >= 0 or B < -2\n",
    "\n",
    "print(\"Are the inequalities A ≥ 0 or B < -2 valid?\", check_alternate_inequalities())"
   ]
  },
  {
   "cell_type": "code",
   "execution_count": 8,
   "metadata": {},
   "outputs": [
    {
     "name": "stdout",
     "output_type": "stream",
     "text": [
      "Is the double inequality A < B < C true? True\n"
     ]
    }
   ],
   "source": [
    "#Task no 6\n",
    "def check_double_inequality():\n",
    "    A = int(input(\"Enter integer A: \"))\n",
    "    B = int(input(\"Enter integer B: \"))\n",
    "    C = int(input(\"Enter integer C: \"))\n",
    "    \n",
    "    return A < B < C\n",
    "\n",
    "print(\"Is the double inequality A < B < C true?\", check_double_inequality())\n"
   ]
  },
  {
   "cell_type": "code",
   "execution_count": 15,
   "metadata": {},
   "outputs": [
    {
     "name": "stdout",
     "output_type": "stream",
     "text": [
      "Is the number B between the numbers A and C? True\n"
     ]
    }
   ],
   "source": [
    "#Task no 7\n",
    "def is_between():\n",
    "    A = int(input(\"Enter integer A: \"))\n",
    "    B = int(input(\"Enter integer B: \"))\n",
    "    C = int(input(\"Enter integer C: \"))\n",
    "\n",
    "    return A < B < C or C < B < A\n",
    "\n",
    "print(\"Is the number B between the numbers A and C?\", is_between())\n"
   ]
  },
  {
   "cell_type": "code",
   "execution_count": 10,
   "metadata": {},
   "outputs": [
    {
     "name": "stdout",
     "output_type": "stream",
     "text": [
      "Are both numbers A and B odd? False\n"
     ]
    }
   ],
   "source": [
    "#Task no 8\n",
    "def both_odd():\n",
    "    A = int(input(\"Enter integer A: \"))\n",
    "    B = int(input(\"Enter integer B: \"))\n",
    "\n",
    "    return A % 2 != 0 and B % 2 != 0\n",
    "\n",
    "print(\"Are both numbers A and B odd?\", both_odd())\n"
   ]
  },
  {
   "cell_type": "code",
   "execution_count": 11,
   "metadata": {},
   "outputs": [
    {
     "name": "stdout",
     "output_type": "stream",
     "text": [
      "Is at least one of the numbers A and B odd? True\n"
     ]
    }
   ],
   "source": [
    "#Task no 9\n",
    "def at_least_one_odd():\n",
    "    A = int(input(\"Enter integer A: \"))\n",
    "    B = int(input(\"Enter integer B: \"))\n",
    "    \n",
    "    return A % 2 != 0 or B % 2 != 0\n",
    "print(\"Is at least one of the numbers A and B odd?\", at_least_one_odd())\n"
   ]
  },
  {
   "cell_type": "code",
   "execution_count": 12,
   "metadata": {},
   "outputs": [
    {
     "name": "stdout",
     "output_type": "stream",
     "text": [
      "Is exactly one of the numbers A and B odd? False\n"
     ]
    }
   ],
   "source": [
    "#Task no 10\n",
    "def exactly_one_odd():\n",
    "    A = int(input(\"Enter integer A: \"))\n",
    "    B = int(input(\"Enter integer B: \"))\n",
    "\n",
    "    return (A % 2 != 0) != (B % 2 == 0)\n",
    "\n",
    "print(\"Is exactly one of the numbers A and B odd?\", exactly_one_odd())"
   ]
  },
  {
   "cell_type": "code",
   "execution_count": 13,
   "metadata": {},
   "outputs": [
    {
     "name": "stdout",
     "output_type": "stream",
     "text": [
      "Do the numbers A and B have the same parity? False\n"
     ]
    }
   ],
   "source": [
    "#Task no 11\n",
    "def same_parity():\n",
    "    A = int(input(\"Enter integer A: \"))\n",
    "    B = int(input(\"Enter integer B: \"))\n",
    "\n",
    "    return (A % 2 == 0) == (B % 2 == 0)\n",
    "\n",
    "print(\"Do the numbers A and B have the same parity?\", same_parity())"
   ]
  },
  {
   "cell_type": "code",
   "execution_count": 14,
   "metadata": {},
   "outputs": [
    {
     "name": "stdout",
     "output_type": "stream",
     "text": [
      "Are all numbers A, B, and C positive? True\n"
     ]
    }
   ],
   "source": [
    "#Task no 12\n",
    "def all_positive():\n",
    "    A = int(input(\"Enter integer A: \"))\n",
    "    B = int(input(\"Enter integer B: \"))\n",
    "    C = int(input(\"Enter integer C: \"))\n",
    "\n",
    "    return A > 0 and B > 0 and C > 0\n",
    "print(\"Are all numbers A, B, and C positive?\", all_positive())"
   ]
  }
 ],
 "metadata": {
  "kernelspec": {
   "display_name": "Python 3",
   "language": "python",
   "name": "python3"
  },
  "language_info": {
   "codemirror_mode": {
    "name": "ipython",
    "version": 3
   },
   "file_extension": ".py",
   "mimetype": "text/x-python",
   "name": "python",
   "nbconvert_exporter": "python",
   "pygments_lexer": "ipython3",
   "version": "3.12.0"
  }
 },
 "nbformat": 4,
 "nbformat_minor": 2
}
