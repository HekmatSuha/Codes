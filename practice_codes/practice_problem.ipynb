{
 "cells": [
  {
   "cell_type": "code",
   "execution_count": 2,
   "metadata": {},
   "outputs": [
    {
     "name": "stdout",
     "output_type": "stream",
     "text": [
      "5\n"
     ]
    }
   ],
   "source": [
    "def lesser_of_evens(a,b):\n",
    "    if a%2 == 0 and b%2 ==0:\n",
    "        print(min(a,b))\n",
    "    else:\n",
    "        print(min(a,b))\n",
    "\n",
    "lesser_of_evens(5,9)"
   ]
  },
  {
   "cell_type": "code",
   "execution_count": 1,
   "metadata": {},
   "outputs": [
    {
     "name": "stdout",
     "output_type": "stream",
     "text": [
      "7\n",
      "7\n"
     ]
    }
   ],
   "source": [
    "def print_numbers(B, N):\n",
    "  \"\"\"\n",
    "  This function prints a sequence of numbers based on the values of B and N.\n",
    "\n",
    "  Args:\n",
    "      B: An integer value.\n",
    "      N: Another integer value.\n",
    "  \"\"\"\n",
    "  A = 2  # Initialize A\n",
    "\n",
    "  while A <= N:  # Loop until A is greater than N\n",
    "    if A < B:  # Check if A is less than B\n",
    "      print(B)  # Print B\n",
    "    A += 3  # Update A by adding 3\n",
    "\n",
    "print_numbers(7,11)"
   ]
  }
 ],
 "metadata": {
  "kernelspec": {
   "display_name": "Python 3",
   "language": "python",
   "name": "python3"
  },
  "language_info": {
   "codemirror_mode": {
    "name": "ipython",
    "version": 3
   },
   "file_extension": ".py",
   "mimetype": "text/x-python",
   "name": "python",
   "nbconvert_exporter": "python",
   "pygments_lexer": "ipython3",
   "version": "3.12.0"
  }
 },
 "nbformat": 4,
 "nbformat_minor": 2
}
