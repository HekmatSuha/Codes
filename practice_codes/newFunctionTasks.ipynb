{
 "cells": [
  {
   "cell_type": "code",
   "execution_count": 1,
   "metadata": {},
   "outputs": [
    {
     "name": "stdout",
     "output_type": "stream",
     "text": [
      "The third power of 2.0 is: 8.0\n",
      "The third power of 34.0 is: 39304.0\n",
      "The third power of 12.0 is: 1728.0\n",
      "The third power of 23.0 is: 12167.0\n",
      "The third power of 45.0 is: 91125.0\n",
      "The third power of 67.0 is: 300763.0\n",
      "The third power of 3.0 is: 27.0\n",
      "The third power of 4.0 is: 64.0\n",
      "The third power of 5.0 is: 125.0\n",
      "The third power of 6.0 is: 216.0\n",
      "The third power of 7.0 is: 343.0\n",
      "The third power of 8.0 is: 512.0\n",
      "The third power of 9.0 is: 729.0\n",
      "The third power of 3.0 is: 27.0\n",
      "The third power of 4.0 is: 64.0\n",
      "The third power of 5.0 is: 125.0\n",
      "The third power of 6.0 is: 216.0\n",
      "The third power of 7.0 is: 343.0\n",
      "The third power of 8.0 is: 512.0\n",
      "The third power of 9.0 is: 729.0\n"
     ]
    }
   ],
   "source": [
    "#Task no1\n",
    "\n",
    "def PowerA3(a):\n",
    "\n",
    "  return a ** 3\n",
    "numbers = []\n",
    "for i in range(20):\n",
    "  number = float(input(f\"Enter number {i+1}: \"))\n",
    "  numbers.append(number)\n",
    "\n",
    "\n",
    "for number in numbers:\n",
    "  third_power = PowerA3(number)\n",
    "  print(f\"The third power of {number} is: {third_power}\")"
   ]
  },
  {
   "cell_type": "code",
   "execution_count": 3,
   "metadata": {},
   "outputs": [
    {
     "name": "stdout",
     "output_type": "stream",
     "text": [
      "Arithmetic Mean (AMean): 6.5\n",
      "Geometric Mean (GMean): 6.0\n"
     ]
    }
   ],
   "source": [
    "#Task no 2\n",
    "import math\n",
    "\n",
    "def Mean(X, Y):\n",
    "\n",
    "  AMean = (X + Y) / 2\n",
    "\n",
    "  GMean = math.sqrt(X * Y) \n",
    "\n",
    "  return AMean, GMean\n",
    "\n",
    "X = 4\n",
    "Y = 9\n",
    "arithmetic_mean, geometric_mean = Mean(X, Y)\n",
    "\n",
    "print(f\"Arithmetic Mean (AMean): {arithmetic_mean}\")\n",
    "print(f\"Geometric Mean (GMean): {geometric_mean}\")"
   ]
  },
  {
   "cell_type": "code",
   "execution_count": 4,
   "metadata": {},
   "outputs": [
    {
     "name": "stdout",
     "output_type": "stream",
     "text": [
      "For an equilateral triangle with side length 5:\n",
      "Perimeter (P): 15\n",
      "Area (S): 10.83\n"
     ]
    }
   ],
   "source": [
    "#Task no 3\n",
    "def TrianglePS(a):\n",
    "\n",
    "  P = 3 * a\n",
    "  S = (a**2 * math.sqrt(3)) / 4\n",
    "  return P, S\n",
    "\n",
    "\n",
    "side_length = 5\n",
    "perimeter, area = TrianglePS(side_length)\n",
    "\n",
    "print(f\"For an equilateral triangle with side length {side_length}:\")\n",
    "print(f\"Perimeter (P): {perimeter}\")\n",
    "print(f\"Area (S): {area:.2f}\") "
   ]
  },
  {
   "cell_type": "code",
   "execution_count": 5,
   "metadata": {},
   "outputs": [
    {
     "name": "stdout",
     "output_type": "stream",
     "text": [
      "Number: 12345\n",
      "Digit Count (C): 5\n",
      "Digit Sum (S): 15\n"
     ]
    }
   ],
   "source": [
    "#Task no 4\n",
    "def DigitCountSum(K):\n",
    "  C = 0  \n",
    "  S = 0  \n",
    "\n",
    "  temp_K = K  \n",
    "\n",
    "  while temp_K > 0:\n",
    "    digit = temp_K % 10    \n",
    "    S += digit             \n",
    "    C += 1                \n",
    "    temp_K //= 10         \n",
    "\n",
    "  return C, S\n",
    "\n",
    "\n",
    "K = 12345\n",
    "digit_count, digit_sum = DigitCountSum(K)\n",
    "\n",
    "print(f\"Number: {K}\")\n",
    "print(f\"Digit Count (C): {digit_count}\")\n",
    "print(f\"Digit Sum (S): {digit_sum}\")"
   ]
  },
  {
   "cell_type": "code",
   "execution_count": 11,
   "metadata": {},
   "outputs": [
    {
     "name": "stdout",
     "output_type": "stream",
     "text": [
      "6\n",
      "12\n",
      "18\n",
      "24\n",
      "30\n"
     ]
    }
   ],
   "source": [
    "def fun(nums):\n",
    "    for v in nums:\n",
    "        if v % 4 == 0 or v % 6 == 0:\n",
    "            print(v)\n",
    "\n",
    "numbers = [3,6,9,12,15,18,21,24,27,30]\n",
    "\n",
    "fun(numbers)"
   ]
  }
 ],
 "metadata": {
  "kernelspec": {
   "display_name": "Python 3",
   "language": "python",
   "name": "python3"
  },
  "language_info": {
   "codemirror_mode": {
    "name": "ipython",
    "version": 3
   },
   "file_extension": ".py",
   "mimetype": "text/x-python",
   "name": "python",
   "nbconvert_exporter": "python",
   "pygments_lexer": "ipython3",
   "version": "3.12.0"
  }
 },
 "nbformat": 4,
 "nbformat_minor": 2
}
