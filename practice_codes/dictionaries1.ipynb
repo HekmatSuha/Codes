{
 "cells": [
  {
   "cell_type": "code",
   "execution_count": 18,
   "metadata": {},
   "outputs": [
    {
     "name": "stdout",
     "output_type": "stream",
     "text": [
      "{'title': 'Dictionary', 'language': 'pyghon', 'University': 'AUES', 'year': '2024'}\n"
     ]
    }
   ],
   "source": [
    "#my own example\n",
    "myDic = {\n",
    "    \"title\" : \"Dictionary\",\n",
    "    \"language\": \"pyghon\",\n",
    "    \"University\": \"Energo\"\n",
    "}\n",
    "\n",
    "myDic[\"University\"] = \"AUES\"\n",
    "myDic[\"year\"] = \"2024\"\n",
    "print(myDic)"
   ]
  },
  {
   "cell_type": "code",
   "execution_count": 19,
   "metadata": {},
   "outputs": [
    {
     "name": "stdout",
     "output_type": "stream",
     "text": [
      "title\n",
      "language\n",
      "University\n"
     ]
    }
   ],
   "source": [
    "#my own example\n",
    "myDic = {\n",
    "    \"title\" : \"Dictionary\",\n",
    "    \"language\": \"pyghon\",\n",
    "    \"University\": \"Energo\"\n",
    "}\n",
    "\n",
    "for x in myDic:\n",
    "    print(x)"
   ]
  },
  {
   "cell_type": "code",
   "execution_count": 20,
   "metadata": {},
   "outputs": [
    {
     "name": "stdout",
     "output_type": "stream",
     "text": [
      "Dictionary\n",
      "pyghon\n",
      "Energo\n"
     ]
    }
   ],
   "source": [
    "#my own example\n",
    "myDic = {\n",
    "    \"title\" : \"Dictionary\",\n",
    "    \"language\": \"pyghon\",\n",
    "    \"University\": \"Energo\"\n",
    "}\n",
    "\n",
    "for x in myDic.values():\n",
    "    print(x)"
   ]
  },
  {
   "cell_type": "code",
   "execution_count": 21,
   "metadata": {},
   "outputs": [
    {
     "name": "stdout",
     "output_type": "stream",
     "text": [
      "title Dictionary\n",
      "language pyghon\n",
      "University Energo\n"
     ]
    }
   ],
   "source": [
    "#my own example\n",
    "myDic = {\n",
    "    \"title\" : \"Dictionary\",\n",
    "    \"language\": \"pyghon\",\n",
    "    \"University\": \"Energo\"\n",
    "}\n",
    "\n",
    "for x,y in myDic.items():\n",
    "    print(x,y)"
   ]
  },
  {
   "cell_type": "code",
   "execution_count": 31,
   "metadata": {},
   "outputs": [
    {
     "name": "stdout",
     "output_type": "stream",
     "text": [
      "satisfactory\n"
     ]
    }
   ],
   "source": [
    "#Lecture Task\n",
    "\n",
    "K = str(input(\"Enter a number from the range 1-5: \"))\n",
    "\n",
    "ocenka = {\n",
    "    '1': 'bad',\n",
    "    '2': 'unsatisfactory',\n",
    "    '3': 'satisfactory',\n",
    "    '4': 'good',\n",
    "    '5': 'excellent'\n",
    "}\n",
    "\n",
    "try:\n",
    "    print(ocenka[K])\n",
    "except KeyError as e:\n",
    "    print('Error')"
   ]
  },
  {
   "cell_type": "code",
   "execution_count": null,
   "metadata": {},
   "outputs": [],
   "source": []
  }
 ],
 "metadata": {
  "kernelspec": {
   "display_name": "Python 3",
   "language": "python",
   "name": "python3"
  },
  "language_info": {
   "codemirror_mode": {
    "name": "ipython",
    "version": 3
   },
   "file_extension": ".py",
   "mimetype": "text/x-python",
   "name": "python",
   "nbconvert_exporter": "python",
   "pygments_lexer": "ipython3",
   "version": "3.12.0"
  }
 },
 "nbformat": 4,
 "nbformat_minor": 2
}
