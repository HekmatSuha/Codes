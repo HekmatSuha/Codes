{
 "cells": [
  {
   "cell_type": "code",
   "execution_count": 3,
   "metadata": {},
   "outputs": [
    {
     "name": "stdout",
     "output_type": "stream",
     "text": [
      "Sum: 14.0\n",
      "Multiplication: 24.0\n",
      "Division: 6.0\n",
      "Subtraction: 10.0\n"
     ]
    }
   ],
   "source": [
    "#Task 1 from Lecture\n",
    "\n",
    "def calculate_operations(num1, num2):\n",
    "\n",
    "  # Calculate the operations\n",
    "  sum_result = num1 + num2\n",
    "  multiplication_result = num1 * num2\n",
    "  division_result = num1 / num2 if num2 != 0 else \"Division by zero not allowed\"  \n",
    "  subtraction_result = num1 - num2\n",
    "\n",
    "\n",
    "  print(\"Sum:\", sum_result)\n",
    "  print(\"Multiplication:\", multiplication_result)\n",
    "  print(\"Division:\", division_result)\n",
    "  print(\"Subtraction:\", subtraction_result)\n",
    "\n",
    "\n",
    "num1 = float(input(\"Enter the first number: \"))\n",
    "num2 = float(input(\"Enter the second number: \"))\n",
    "\n",
    "\n",
    "calculate_operations(num1, num2)"
   ]
  },
  {
   "cell_type": "code",
   "execution_count": 4,
   "metadata": {},
   "outputs": [
    {
     "name": "stdout",
     "output_type": "stream",
     "text": [
      "Minimum: 12.0\n"
     ]
    }
   ],
   "source": [
    "#Task 2 of Lecture\n",
    "\n",
    "def print_minimum(num1, num2):\n",
    "\n",
    "  if num1 < num2:\n",
    "    print(\"Minimum:\", num1)\n",
    "  else:\n",
    "    print(\"Minimum:\", num2)\n",
    "\n",
    "\n",
    "num1 = float(input(\"Enter the first number: \"))\n",
    "num2 = float(input(\"Enter the second number: \"))\n",
    "\n",
    "\n",
    "print_minimum(num1, num2)"
   ]
  },
  {
   "cell_type": "code",
   "execution_count": 5,
   "metadata": {},
   "outputs": [
    {
     "name": "stdout",
     "output_type": "stream",
     "text": [
      "Can we call you for an interview tomorrow?\n"
     ]
    }
   ],
   "source": [
    "#Task 3 of Lecture\n",
    "def check_eligibility(name, age, gpa):\n",
    "\n",
    "  if age < 18 or gpa < 3.0:\n",
    "    print(f\"{name}, sorry but you cannot work for our company.\")\n",
    "  else:\n",
    "    print(\"Can we call you for an interview tomorrow?\")\n",
    "\n",
    "name = input(\"Enter your name: \")\n",
    "age = int(input(\"Enter your age: \"))\n",
    "gpa = float(input(\"Enter your GPA: \"))\n",
    "\n",
    "check_eligibility(name, age, gpa)"
   ]
  },
  {
   "cell_type": "code",
   "execution_count": 6,
   "metadata": {},
   "outputs": [
    {
     "name": "stdout",
     "output_type": "stream",
     "text": [
      "The maximum number is: 8.0\n"
     ]
    }
   ],
   "source": [
    "#Task 4 of lecture\n",
    "\n",
    "def find_maximum(num1, num2):\n",
    "\n",
    "  if num1 > num2:\n",
    "    return num1\n",
    "  else:\n",
    "    return num2\n",
    "\n",
    "num1 = float(input(\"Enter the first number: \"))\n",
    "num2 = float(input(\"Enter the second number: \"))\n",
    "num3 = float(input(\"Enter the third number: \"))\n",
    "num4 = float(input(\"Enter the fourth number: \"))\n",
    "\n",
    "max1 = find_maximum(num1, num2)\n",
    "max2 = find_maximum(num3, num4)\n",
    "\n",
    "overall_max = find_maximum(max1, max2)\n",
    "\n",
    "print(\"The maximum number is:\", overall_max)"
   ]
  },
  {
   "cell_type": "code",
   "execution_count": 7,
   "metadata": {},
   "outputs": [
    {
     "name": "stdout",
     "output_type": "stream",
     "text": [
      "23 is an odd number.\n"
     ]
    }
   ],
   "source": [
    "#Task 5 of Lecture\n",
    "\n",
    "def is_even(number):\n",
    "\n",
    "  return number % 2 == 0\n",
    "\n",
    "number = int(input(\"Enter a number: \"))\n",
    "\n",
    "if is_even(number):\n",
    "  print(number, \"is an even number.\")\n",
    "else:\n",
    "  print(number, \"is an odd number.\")"
   ]
  },
  {
   "cell_type": "code",
   "execution_count": 8,
   "metadata": {},
   "outputs": [
    {
     "name": "stdout",
     "output_type": "stream",
     "text": [
      "12 is a two-digit number.\n"
     ]
    }
   ],
   "source": [
    "#Task 5 of the lecture\n",
    "\n",
    "def is_two_digit(number):\n",
    "\n",
    "  return 10 <= number <= 99\n",
    "\n",
    "\n",
    "number = int(input(\"Enter a number: \"))\n",
    "\n",
    "if is_two_digit(number):\n",
    "  print(number, \"is a two-digit number.\")\n",
    "else:\n",
    "  print(number, \"is not a two-digit number.\")"
   ]
  },
  {
   "cell_type": "code",
   "execution_count": 9,
   "metadata": {},
   "outputs": [
    {
     "name": "stdout",
     "output_type": "stream",
     "text": [
      "Even numbers:\n",
      "4\n",
      "16\n",
      "36\n",
      "64\n"
     ]
    }
   ],
   "source": [
    "#Task 6 of the Lecture\n",
    "\n",
    "def print_even_numbers(numbers):\n",
    "\n",
    "  print(\"Even numbers:\")\n",
    "  for number in numbers:\n",
    "    if number % 2 == 0:\n",
    "      print(number)\n",
    "\n",
    "# Example usage:\n",
    "numbers = [1, 4, 9, 16, 25, 36, 49, 64]\n",
    "print_even_numbers(numbers)"
   ]
  },
  {
   "cell_type": "code",
   "execution_count": 10,
   "metadata": {},
   "outputs": [
    {
     "name": "stdout",
     "output_type": "stream",
     "text": [
      "Number of negative values: 4\n"
     ]
    }
   ],
   "source": [
    "#Task 7 of the Lecture\n",
    "\n",
    "def count_negative_numbers(numbers):\n",
    "  count = 0\n",
    "  for number in numbers:\n",
    "    if number < 0:\n",
    "      count += 1\n",
    "  return count\n",
    "\n",
    "numbers = [1, -4, 9, -16, 25, -36, 49, 64, -81]\n",
    "negative_count = count_negative_numbers(numbers)\n",
    "print(\"Number of negative values:\", negative_count)"
   ]
  },
  {
   "cell_type": "code",
   "execution_count": 11,
   "metadata": {},
   "outputs": [
    {
     "name": "stdout",
     "output_type": "stream",
     "text": [
      "4\n"
     ]
    }
   ],
   "source": [
    "#Task 8 of the Lecture\n",
    "def count_occurrences(numbers_list, target_number):\n",
    "    count = 0\n",
    "    for number in numbers_list:\n",
    "        if number == target_number:\n",
    "            count += 1\n",
    "    return count\n",
    "\n",
    "numbers = [1, 2, 3, 4, 4, 5, 4, 6, 7, 4]\n",
    "target = 4\n",
    "\n",
    "print(count_occurrences(numbers, target))"
   ]
  }
 ],
 "metadata": {
  "kernelspec": {
   "display_name": "Python 3",
   "language": "python",
   "name": "python3"
  },
  "language_info": {
   "codemirror_mode": {
    "name": "ipython",
    "version": 3
   },
   "file_extension": ".py",
   "mimetype": "text/x-python",
   "name": "python",
   "nbconvert_exporter": "python",
   "pygments_lexer": "ipython3",
   "version": "3.12.0"
  }
 },
 "nbformat": 4,
 "nbformat_minor": 2
}
