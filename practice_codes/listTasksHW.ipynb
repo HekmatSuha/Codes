{
 "cells": [
  {
   "cell_type": "code",
   "execution_count": 2,
   "metadata": {},
   "outputs": [
    {
     "name": "stdout",
     "output_type": "stream",
     "text": [
      "115.62\n"
     ]
    }
   ],
   "source": [
    "#Task HW1\n",
    "def hw_task_1():\n",
    "    lab=[1.1, 2.4, 6.8,7.9 ]\n",
    "    s = 0\n",
    "    for i in lab:\n",
    "        s+=i**2\n",
    "    print(s)\n",
    "hw_task_1()"
   ]
  },
  {
   "cell_type": "code",
   "execution_count": 3,
   "metadata": {},
   "outputs": [
    {
     "name": "stdout",
     "output_type": "stream",
     "text": [
      "160\n"
     ]
    }
   ],
   "source": [
    "#Task HW2\n",
    "def hw_task_2():\n",
    "    lab=[1,1,4,5,4,8,10]\n",
    "    s = 1\n",
    "    for i in range(0, len(lab), 2):\n",
    "        s*= lab[i]\n",
    "    print(s)\n",
    "    \n",
    "hw_task_2()"
   ]
  },
  {
   "cell_type": "code",
   "execution_count": 8,
   "metadata": {},
   "outputs": [
    {
     "name": "stdout",
     "output_type": "stream",
     "text": [
      "[20, 34, 24]\n"
     ]
    }
   ],
   "source": [
    "#Task HW3\n",
    "def hw_task_3():\n",
    "    lab=[6,20,34,24]\n",
    "    lab=list(filter(lambda x: x>10, lab))\n",
    "    print(lab)\n",
    "\n",
    "hw_task_3()"
   ]
  },
  {
   "cell_type": "code",
   "execution_count": 7,
   "metadata": {},
   "outputs": [
    {
     "name": "stdout",
     "output_type": "stream",
     "text": [
      "[1, 3]\n"
     ]
    }
   ],
   "source": [
    "#Task HW4\n",
    "def hw_task_4():\n",
    "    n = int(input())\n",
    "    print([i for i in range(1, n+1, 2)])\n",
    "\n",
    "hw_task_4()"
   ]
  },
  {
   "cell_type": "code",
   "execution_count": 9,
   "metadata": {},
   "outputs": [
    {
     "name": "stdout",
     "output_type": "stream",
     "text": [
      "[2, 4, 8, 16, 32]\n"
     ]
    }
   ],
   "source": [
    "#Task HW5\n",
    "def hw_task_5():\n",
    "    n = int(input())\n",
    "    print([2**i for i in range(1, n+1)])\n",
    "\n",
    "hw_task_5()"
   ]
  },
  {
   "cell_type": "code",
   "execution_count": 10,
   "metadata": {},
   "outputs": [
    {
     "name": "stdout",
     "output_type": "stream",
     "text": [
      "[3, 7]\n"
     ]
    }
   ],
   "source": [
    "#Task HW6\n",
    "def hw_task_6():\n",
    "    n, a, d = [int(i) for i in input(\"N, A, D: \").split()]\n",
    "    print([a+d*i for i in range(0, n)])\n",
    "\n",
    "hw_task_6()"
   ]
  },
  {
   "cell_type": "code",
   "execution_count": 11,
   "metadata": {},
   "outputs": [
    {
     "name": "stdout",
     "output_type": "stream",
     "text": [
      "[10, 100, 30, 300, 50]\n"
     ]
    }
   ],
   "source": [
    "numbers = [10,20,30,40,50]\n",
    "numbers[1]=100\n",
    "numbers[3]=300\n",
    "\n",
    "print(numbers)"
   ]
  },
  {
   "cell_type": "code",
   "execution_count": 12,
   "metadata": {},
   "outputs": [
    {
     "name": "stdout",
     "output_type": "stream",
     "text": [
      "[20, 30, 30, 40, 50]\n"
     ]
    }
   ],
   "source": [
    "numbers = [10,20,30,40,50]\n",
    "numbers[0]=numbers[1]\n",
    "numbers[1]=numbers[2]\n",
    "\n",
    "print(numbers)"
   ]
  },
  {
   "cell_type": "code",
   "execution_count": 13,
   "metadata": {},
   "outputs": [
    {
     "name": "stdout",
     "output_type": "stream",
     "text": [
      "10\n",
      "20\n",
      "30\n",
      "40\n",
      "50\n"
     ]
    }
   ],
   "source": [
    "numbers = [10,20,30,40,50]\n",
    "\n",
    "for n in numbers:\n",
    "    print(n)\n",
    "\n"
   ]
  },
  {
   "cell_type": "code",
   "execution_count": 14,
   "metadata": {},
   "outputs": [
    {
     "name": "stdout",
     "output_type": "stream",
     "text": [
      "0\n",
      "1\n",
      "2\n",
      "3\n",
      "4\n"
     ]
    }
   ],
   "source": [
    "numbers = [10,20,30,40,50]\n",
    "\n",
    "for ind , num in enumerate(numbers):\n",
    "    print(ind)"
   ]
  },
  {
   "cell_type": "code",
   "execution_count": 16,
   "metadata": {},
   "outputs": [
    {
     "name": "stdout",
     "output_type": "stream",
     "text": [
      "30\n",
      "40\n",
      "50\n"
     ]
    }
   ],
   "source": [
    "numbers = [10,20,30,40,50]\n",
    "\n",
    "for n in numbers:\n",
    "    if n > 20:\n",
    "        print(n)"
   ]
  },
  {
   "cell_type": "code",
   "execution_count": 3,
   "metadata": {},
   "outputs": [
    {
     "name": "stdout",
     "output_type": "stream",
     "text": [
      "['one', 'two', 'three', 'six']\n",
      "['one', 'two', 'three', 'zero', 'six']\n",
      "['one', 'two', 'three', 'zero', 'six', 'seven']\n"
     ]
    }
   ],
   "source": [
    "values = ['one','two','three']\n",
    "\n",
    "values.append('six')\n",
    "print(values)\n",
    "values.insert(3,'zero')\n",
    "print(values)\n",
    "values.append('seven')\n",
    "print(values)"
   ]
  },
  {
   "cell_type": "code",
   "execution_count": 5,
   "metadata": {},
   "outputs": [
    {
     "name": "stdout",
     "output_type": "stream",
     "text": [
      "['one', 'two', 'three', 'five']\n",
      "['one', 'two', 'five']\n"
     ]
    }
   ],
   "source": [
    "values = ['one','two','three','four','five']\n",
    "\n",
    "del values[3]\n",
    "print(values)\n",
    "del values[2]\n",
    "print(values)\n"
   ]
  },
  {
   "cell_type": "code",
   "execution_count": 7,
   "metadata": {},
   "outputs": [
    {
     "name": "stdout",
     "output_type": "stream",
     "text": [
      "['one', 'five']\n"
     ]
    }
   ],
   "source": [
    "values = ['one','two','three','four','five']\n",
    "\n",
    "del values[1]\n",
    "del values[1]\n",
    "del values[1]\n",
    "\n",
    "print(values)"
   ]
  },
  {
   "cell_type": "code",
   "execution_count": 11,
   "metadata": {},
   "outputs": [
    {
     "name": "stdout",
     "output_type": "stream",
     "text": [
      "[10, 30, 40, 50, 60]\n",
      "[10, 30, 40, 60]\n",
      "[10, 40, 60]\n"
     ]
    }
   ],
   "source": [
    "values = [10,20,30,40,50,60]\n",
    "\n",
    "del values[1]\n",
    "print(values)\n",
    "values.remove(50)\n",
    "print(values)\n",
    "del values[1]\n",
    "print(values)"
   ]
  },
  {
   "cell_type": "code",
   "execution_count": 12,
   "metadata": {},
   "outputs": [
    {
     "name": "stdout",
     "output_type": "stream",
     "text": [
      "[5, 2, 4]\n"
     ]
    }
   ],
   "source": [
    "values = [5,2,3,1,4,6]\n",
    "\n",
    "del values[3]\n",
    "values.remove(3)\n",
    "del values[3]\n",
    "\n",
    "print(values)"
   ]
  },
  {
   "cell_type": "code",
   "execution_count": 13,
   "metadata": {},
   "outputs": [
    {
     "name": "stdout",
     "output_type": "stream",
     "text": [
      "[5, 1, 6]\n"
     ]
    }
   ],
   "source": [
    "values = [5,2,3,1,4,6]\n",
    "\n",
    "del values[2]\n",
    "values.remove(2)\n",
    "del values[2]\n",
    "\n",
    "print(values)"
   ]
  },
  {
   "cell_type": "code",
   "execution_count": 16,
   "metadata": {},
   "outputs": [
    {
     "name": "stdout",
     "output_type": "stream",
     "text": [
      "[5, 2, 3, 4, 6, 2]\n"
     ]
    }
   ],
   "source": [
    "values = [5,2,3,1,4,6]\n",
    "\n",
    "values.append(2)\n",
    "del values[1]\n",
    "values.insert(1,2)\n",
    "values.remove(1)\n",
    "\n",
    "print(values)"
   ]
  },
  {
   "cell_type": "code",
   "execution_count": 17,
   "metadata": {},
   "outputs": [
    {
     "name": "stdout",
     "output_type": "stream",
     "text": [
      "[5, 3, 2, 1, 4, 6]\n"
     ]
    }
   ],
   "source": [
    "values = [5,3,3,1,4,6]\n",
    "\n",
    "values[2] = 2\n",
    "values.insert(1,2)\n",
    "values.remove(2)\n",
    "\n",
    "print(values)"
   ]
  },
  {
   "cell_type": "code",
   "execution_count": 18,
   "metadata": {},
   "outputs": [
    {
     "name": "stdout",
     "output_type": "stream",
     "text": [
      "[5, 2, 3, 1, 4, 6]\n"
     ]
    }
   ],
   "source": [
    "values = [5,3,3,1,4,6]\n",
    "\n",
    "values[1] = 4\n",
    "values.insert(2,2)\n",
    "values.remove(4)\n",
    "\n",
    "print(values)\n"
   ]
  },
  {
   "cell_type": "code",
   "execution_count": 19,
   "metadata": {},
   "outputs": [
    {
     "name": "stdout",
     "output_type": "stream",
     "text": [
      "[3, 1, 2, 2, 6, 4]\n"
     ]
    }
   ],
   "source": [
    "values = [3,1,5,6,4]\n",
    "\n",
    "values.insert(2,2)\n",
    "values.append(5)\n",
    "values[3] = 2\n",
    "values.remove(5)\n",
    "\n",
    "print(values)\n"
   ]
  },
  {
   "cell_type": "code",
   "execution_count": 20,
   "metadata": {},
   "outputs": [
    {
     "name": "stdout",
     "output_type": "stream",
     "text": [
      "[3, 1, 5, 3, 4, 3]\n"
     ]
    }
   ],
   "source": [
    "values = [3,1,5,6,4]\n",
    "\n",
    "values.insert(1,3)\n",
    "values.remove(3)\n",
    "values.append(3)\n",
    "values[3] = 3\n",
    "\n",
    "print(values)\n"
   ]
  }
 ],
 "metadata": {
  "kernelspec": {
   "display_name": "Python 3",
   "language": "python",
   "name": "python3"
  },
  "language_info": {
   "codemirror_mode": {
    "name": "ipython",
    "version": 3
   },
   "file_extension": ".py",
   "mimetype": "text/x-python",
   "name": "python",
   "nbconvert_exporter": "python",
   "pygments_lexer": "ipython3",
   "version": "3.12.0"
  }
 },
 "nbformat": 4,
 "nbformat_minor": 2
}
