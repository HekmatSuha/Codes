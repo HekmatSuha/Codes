{
 "cells": [
  {
   "cell_type": "code",
   "execution_count": 19,
   "metadata": {},
   "outputs": [
    {
     "name": "stdout",
     "output_type": "stream",
     "text": [
      "5\n",
      "5\n",
      "5\n"
     ]
    }
   ],
   "source": [
    "#Task no1\n",
    "K = 5\n",
    "N = 3\n",
    "for _ in range(N):\n",
    "    print(K)"
   ]
  },
  {
   "cell_type": "code",
   "execution_count": 20,
   "metadata": {},
   "outputs": [
    {
     "name": "stdout",
     "output_type": "stream",
     "text": [
      "2\n",
      "3\n",
      "4\n",
      "5\n",
      "6\n",
      "N = 5\n"
     ]
    }
   ],
   "source": [
    "#Task no 2\n",
    "A = 2\n",
    "B = 6\n",
    "count = 0\n",
    "for i in range(A, B+1):\n",
    "    print(i)\n",
    "    count += 1\n",
    "print(\"N =\", count)"
   ]
  },
  {
   "cell_type": "code",
   "execution_count": 21,
   "metadata": {},
   "outputs": [
    {
     "name": "stdout",
     "output_type": "stream",
     "text": [
      "6\n",
      "5\n",
      "4\n",
      "N = 3\n"
     ]
    }
   ],
   "source": [
    "#Task no 3\n",
    "A = 6\n",
    "B = 2\n",
    "count = 0\n",
    "for i in range(B+1, A):\n",
    "    print(A - count)\n",
    "    count += 1\n",
    "print(\"N =\", count)"
   ]
  },
  {
   "cell_type": "code",
   "execution_count": null,
   "metadata": {},
   "outputs": [],
   "source": [
    "#Task no 4\n",
    "price_per_kg = 10\n",
    "for kg in range(1, 11):\n",
    "    print(\"Cost of\", kg, \"kg of sweets:\", kg * price_per_kg)"
   ]
  },
  {
   "cell_type": "code",
   "execution_count": 22,
   "metadata": {},
   "outputs": [
    {
     "name": "stdout",
     "output_type": "stream",
     "text": [
      "Product: 120\n"
     ]
    }
   ],
   "source": [
    "#Task no 8\n",
    "A = 2\n",
    "B = 5\n",
    "product = 1\n",
    "num = A\n",
    "while num <= B:\n",
    "    product *= num\n",
    "    num += 1\n",
    "print(\"Product:\", product)"
   ]
  },
  {
   "cell_type": "code",
   "execution_count": 9,
   "metadata": {},
   "outputs": [
    {
     "name": "stdout",
     "output_type": "stream",
     "text": [
      "Sum of squares: 30\n"
     ]
    }
   ],
   "source": [
    "#Task no 9\n",
    "A = 1\n",
    "B = 4\n",
    "sum_of_squares = 0\n",
    "num = A\n",
    "while num <= B:\n",
    "    sum_of_squares += num ** 2\n",
    "    num += 1\n",
    "print(\"Sum of squares:\", sum_of_squares)"
   ]
  },
  {
   "cell_type": "code",
   "execution_count": 15,
   "metadata": {},
   "outputs": [
    {
     "name": "stdout",
     "output_type": "stream",
     "text": [
      "Sum of series: 2.283333333333333\n"
     ]
    }
   ],
   "source": [
    "#Task no 10\n",
    "# Find the sum of the series 1 + 1/2 + 1/3 + ... + 1/N\n",
    "N = 5\n",
    "sum_series = 0\n",
    "for i in range(1, N+1):\n",
    "    sum_series += 1/i\n",
    "print(\"Sum of series:\", sum_series)"
   ]
  },
  {
   "cell_type": "code",
   "execution_count": 26,
   "metadata": {},
   "outputs": [
    {
     "name": "stdout",
     "output_type": "stream",
     "text": [
      "4394\n"
     ]
    }
   ],
   "source": [
    "#Task no 11\n",
    "def task_11():\n",
    "    a = [int(i) for i in input().split()]\n",
    "    b = 0\n",
    "    for i in range(a[0], 2*a[0]+1):\n",
    "        b += i**2\n",
    "    print(b)\n",
    "\n",
    "task_11()"
   ]
  },
  {
   "cell_type": "code",
   "execution_count": 27,
   "metadata": {},
   "outputs": [
    {
     "name": "stdout",
     "output_type": "stream",
     "text": [
      "1.32\n"
     ]
    }
   ],
   "source": [
    "def task_12():\n",
    "    a = [int(i) for i in input().split()]\n",
    "    b = 1\n",
    "    for i in range(1, a[0]+1):\n",
    "        b *= i/10 + 1\n",
    "    print(b)\n",
    "task_12()"
   ]
  }
 ],
 "metadata": {
  "kernelspec": {
   "display_name": "Python 3",
   "language": "python",
   "name": "python3"
  },
  "language_info": {
   "codemirror_mode": {
    "name": "ipython",
    "version": 3
   },
   "file_extension": ".py",
   "mimetype": "text/x-python",
   "name": "python",
   "nbconvert_exporter": "python",
   "pygments_lexer": "ipython3",
   "version": "3.12.0"
  }
 },
 "nbformat": 4,
 "nbformat_minor": 2
}
