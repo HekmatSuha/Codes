{
 "cells": [
  {
   "cell_type": "code",
   "execution_count": 1,
   "metadata": {},
   "outputs": [
    {
     "name": "stdout",
     "output_type": "stream",
     "text": [
      "good\n"
     ]
    }
   ],
   "source": [
    "#Lecture Task\n",
    "\n",
    "H = str(input(\"Enter a number from the range 1-5: \"))\n",
    "\n",
    "hekmat = {\n",
    "    '1': 'bad',\n",
    "    '2': 'unsatisfactory',\n",
    "    '3': 'satisfactory',\n",
    "    '4': 'good',\n",
    "    '5': 'excellent'\n",
    "}\n",
    "\n",
    "try:\n",
    "    print(hekmat[H])\n",
    "except KeyError as e:\n",
    "    print('Error')"
   ]
  },
  {
   "cell_type": "code",
   "execution_count": 3,
   "metadata": {},
   "outputs": [
    {
     "name": "stdout",
     "output_type": "stream",
     "text": [
      "spring\n"
     ]
    }
   ],
   "source": [
    "#Task no1\n",
    "\n",
    "month_to_season = {\n",
    "     1: 'winter', 2: 'winter', 3: 'spring',\n",
    "     4: 'spring', 5: 'spring', 6: 'summer',\n",
    "     7: 'summer', 8: 'summer', 9: 'autumn',\n",
    "     10: 'autumn', 11: 'autumn', 12: 'winter'\n",
    "}\n",
    "\n",
    "month_number = int(input(\"Enter a month number(1-12)\"))\n",
    "\n",
    "try:\n",
    "    season = month_to_season[month_number]\n",
    "    print(season)\n",
    "except KeyError:\n",
    "    print(\"Invalid month number. please enter a number between 1 and 12.\")"
   ]
  },
  {
   "cell_type": "code",
   "execution_count": 4,
   "metadata": {},
   "outputs": [
    {
     "name": "stdout",
     "output_type": "stream",
     "text": [
      "The number of days in month 2 is 28.\n"
     ]
    }
   ],
   "source": [
    "#Task no 2\n",
    "\n",
    "month_days = {\n",
    "    1: 31, 2: 28, 3: 31, 4: 30, 5: 31, 6: 30,\n",
    "    7: 31, 8: 31, 9: 30, 10: 31, 11: 30, 12: 31\n",
    "}\n",
    "\n",
    "month_number = int(input(\"Enter a month number (1-12): \"))\n",
    "\n",
    "try:\n",
    "    days = month_days[month_number]\n",
    "    print(f\"The number of days in month {month_number} is {days}.\")\n",
    "except KeyError:\n",
    "    print(\"Invalid month number. please enter a number between 1 and 12.\")\n"
   ]
  },
  {
   "cell_type": "code",
   "execution_count": 5,
   "metadata": {},
   "outputs": [
    {
     "name": "stdout",
     "output_type": "stream",
     "text": [
      "The result of the operation is -22.0.\n"
     ]
    }
   ],
   "source": [
    "#Task no 3 \n",
    "\n",
    "def addition(a, b):\n",
    "    return a + b\n",
    "\n",
    "def subtraction(a, b):\n",
    "    return a - b\n",
    "\n",
    "def multiplication(a, b):\n",
    "    return a * b\n",
    "\n",
    "def division(a, b):\n",
    "    if b == 0:\n",
    "        raise ValueError(\"Division by zero is not allowed.\")\n",
    "    return a / b\n",
    "\n",
    "operations = {\n",
    "    1: addition,\n",
    "    2: subtraction,\n",
    "    3: multiplication,\n",
    "    4: division\n",
    "}\n",
    "\n",
    "N = int(input(\"Enter the action number (1-4): \"))\n",
    "\n",
    "\n",
    "A = float(input(\"Enter the first number (A): \"))\n",
    "B = float(input(\"Enter the second number (B): \"))\n",
    "\n",
    "try:\n",
    "    operation = operations[N]\n",
    "\n",
    "    result = operation(A,B)\n",
    "\n",
    "    print(f\"The result of the operation is {result}.\")\n",
    "except KeyError:\n",
    "    print(\"Invalid action number. Please enter a number between 1 and 4.\")\n",
    "except ValueError as e:\n",
    "    print(e)"
   ]
  },
  {
   "cell_type": "code",
   "execution_count": 6,
   "metadata": {},
   "outputs": [
    {
     "name": "stdout",
     "output_type": "stream",
     "text": [
      "The length of the segment in meters is 0.056.\n"
     ]
    }
   ],
   "source": [
    "#Task no 4\n",
    "conversion_factors = {\n",
    "    1: 0.1,       # decimeter to meters\n",
    "    2: 1000,      # kilometer to meters\n",
    "    3: 1,         # meter to meters\n",
    "    4: 0.001,     # millimeter to meters\n",
    "    5: 0.01       # centimeter to meters\n",
    "}\n",
    "\n",
    "unit_number = int(input(\"Enter the unit number (1-5): \"))\n",
    "\n",
    "length_in_unit = float(input(\"Enter the length of the segment: \"))\n",
    "\n",
    "try:\n",
    "    \n",
    "    conversion_factor = conversion_factors[unit_number]\n",
    "   \n",
    "    length_in_meters = length_in_unit * conversion_factor\n",
    "\n",
    "    print(f\"The length of the segment in meters is {length_in_meters}.\")\n",
    "except KeyError:\n",
    "    print(\"Invalid unit number. Please enter a number between 1 and 5.\")\n"
   ]
  },
  {
   "cell_type": "code",
   "execution_count": 7,
   "metadata": {},
   "outputs": [
    {
     "name": "stdout",
     "output_type": "stream",
     "text": [
      "The body mass in kilograms is 0.054.\n"
     ]
    }
   ],
   "source": [
    "#Task no 5\n",
    "conversion_factors = {\n",
    "    1: 1,          # kilogram to kilograms\n",
    "    2: 1e-6,       # milligram to kilograms\n",
    "    3: 1e-3,       # gram to kilograms\n",
    "    4: 1000,       # ton to kilograms\n",
    "    5: 100         # quintal to kilograms\n",
    "}\n",
    "\n",
    "unit_number = int(input(\"Enter the unit number (1-5): \"))\n",
    "\n",
    "mass_in_unit = float(input(\"Enter the body mass: \"))\n",
    "\n",
    "try:\n",
    "    conversion_factor = conversion_factors[unit_number]\n",
    "    mass_in_kilograms = mass_in_unit * conversion_factor\n",
    "  \n",
    "    print(f\"The body mass in kilograms is {mass_in_kilograms}.\")\n",
    "    \n",
    "except KeyError:\n",
    "    print(\"Invalid unit number. Please enter a number between 1 and 5.\")\n"
   ]
  }
 ],
 "metadata": {
  "kernelspec": {
   "display_name": "Python 3",
   "language": "python",
   "name": "python3"
  },
  "language_info": {
   "codemirror_mode": {
    "name": "ipython",
    "version": 3
   },
   "file_extension": ".py",
   "mimetype": "text/x-python",
   "name": "python",
   "nbconvert_exporter": "python",
   "pygments_lexer": "ipython3",
   "version": "3.12.0"
  }
 },
 "nbformat": 4,
 "nbformat_minor": 2
}
