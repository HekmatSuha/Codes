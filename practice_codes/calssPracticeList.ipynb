{
 "cells": [
  {
   "cell_type": "code",
   "execution_count": 1,
   "metadata": {},
   "outputs": [
    {
     "name": "stdout",
     "output_type": "stream",
     "text": [
      "Count of negative elements: 3\n",
      "Count of positive elements: 3\n",
      "Numbers divisible by 3: [3, -6]\n",
      "Even numbers: [-4, -6]\n",
      "Odd numbers: [1, -1, 3, 5]\n",
      "Sum of numbers: -2\n",
      "Sum of even numbers: -10\n",
      "Sum of odd numbers: 8\n"
     ]
    }
   ],
   "source": [
    "A = [1, -1, 3, -4, 5, -6]\n",
    "\n",
    "# Find the count of negative elements in the list\n",
    "negative_count = sum(1 for num in A if num < 0)\n",
    "\n",
    "# Find the count of positive elements in the list\n",
    "positive_count = sum(1 for num in A if num > 0)\n",
    "\n",
    "# Find the numbers divisible by 3\n",
    "divisible_by_3 = [num for num in A if num % 3 == 0]\n",
    "\n",
    "# Find even numbers\n",
    "even_numbers = [num for num in A if num % 2 == 0]\n",
    "\n",
    "# Find odd numbers\n",
    "odd_numbers = [num for num in A if num % 2 != 0]\n",
    "\n",
    "# Find sum of numbers\n",
    "total_sum = sum(A)\n",
    "\n",
    "# Find sum of even numbers\n",
    "even_sum = sum(num for num in A if num % 2 == 0)\n",
    "\n",
    "# Find sum of odd numbers\n",
    "odd_sum = sum(num for num in A if num % 2 != 0)\n",
    "\n",
    "print(\"Count of negative elements:\", negative_count)\n",
    "print(\"Count of positive elements:\", positive_count)\n",
    "print(\"Numbers divisible by 3:\", divisible_by_3)\n",
    "print(\"Even numbers:\", even_numbers)\n",
    "print(\"Odd numbers:\", odd_numbers)\n",
    "print(\"Sum of numbers:\", total_sum)\n",
    "print(\"Sum of even numbers:\", even_sum)\n",
    "print(\"Sum of odd numbers:\", odd_sum)"
   ]
  }
 ],
 "metadata": {
  "kernelspec": {
   "display_name": "Python 3",
   "language": "python",
   "name": "python3"
  },
  "language_info": {
   "codemirror_mode": {
    "name": "ipython",
    "version": 3
   },
   "file_extension": ".py",
   "mimetype": "text/x-python",
   "name": "python",
   "nbconvert_exporter": "python",
   "pygments_lexer": "ipython3",
   "version": "3.12.0"
  }
 },
 "nbformat": 4,
 "nbformat_minor": 2
}
