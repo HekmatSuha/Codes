{
 "cells": [
  {
   "cell_type": "code",
   "execution_count": 1,
   "metadata": {},
   "outputs": [
    {
     "name": "stdout",
     "output_type": "stream",
     "text": [
      "67\n"
     ]
    }
   ],
   "source": [
    "#Task no 1\n",
    "C = 'C'  # Example character\n",
    "ascii_code = ord(C)\n",
    "print(ascii_code)"
   ]
  },
  {
   "cell_type": "code",
   "execution_count": 4,
   "metadata": {},
   "outputs": [
    {
     "name": "stdout",
     "output_type": "stream",
     "text": [
      "The character value of the given number is: A\n"
     ]
    }
   ],
   "source": [
    "#Task no 2 ( Given an integer N (32 ≤ N ≤ 126), print the character with code equal to N)\n",
    "def int_char():\n",
    "    N = int(input(\"Enter an interger between (32-126): \"))  # Example integer\n",
    "    return chr(N)\n",
    "print(\"The character value of the given number is:\",int_char())  "
   ]
  },
  {
   "cell_type": "code",
   "execution_count": 7,
   "metadata": {},
   "outputs": [
    {
     "name": "stdout",
     "output_type": "stream",
     "text": [
      "The before and after character of the entered character is:  fh\n"
     ]
    }
   ],
   "source": [
    "#Task no 3\n",
    "def before_and_after():\n",
    "    C = str(input(\"Enter your character: \"))  # Example character\n",
    "\n",
    "    return  chr(ord(C) - 1) + chr(ord(C) + 1)\n",
    "print(\"The before and after character of the entered character is:\",before_and_after())"
   ]
  },
  {
   "cell_type": "code",
   "execution_count": 14,
   "metadata": {},
   "outputs": [
    {
     "name": "stdout",
     "output_type": "stream",
     "text": [
      "ABCDEFG\n"
     ]
    }
   ],
   "source": [
    "#Task no 4 (Given an integer N (1 ≤ N ≤ 26), print the first N capital letters of the Latin alphabet.)\n",
    "\n",
    "N = 7  \n",
    "capital_letters = ''.join(chr(65 + i) for i in range(N))\n",
    "print(capital_letters)  "
   ]
  },
  {
   "cell_type": "code",
   "execution_count": 16,
   "metadata": {},
   "outputs": [
    {
     "name": "stdout",
     "output_type": "stream",
     "text": [
      "zyxwvutsr\n"
     ]
    }
   ],
   "source": [
    "#Task no 5 (Given an integer N (1 ≤ N ≤ 26), print the last N lowercase letters of the Latin alphabet in reverse order (starting with the letter \"z\").)\n",
    "N = 9  # Example integer\n",
    "lowercase_letters_reverse = ''.join(chr(122 - i) for i in range(N))\n",
    "print(lowercase_letters_reverse)  "
   ]
  },
  {
   "cell_type": "code",
   "execution_count": 20,
   "metadata": {},
   "outputs": [
    {
     "name": "stdout",
     "output_type": "stream",
     "text": [
      "lat\n"
     ]
    }
   ],
   "source": [
    "#Task no 6\n",
    "C = 'A'  \n",
    "if C.isdigit():\n",
    "    print(\"digit\")\n",
    "elif 'A' <= C <= 'Z' or 'a' <= C <= 'z':\n",
    "    print(\"lat\")\n",
    "elif 'А' <= C <= 'Я' or 'а' <= C <= 'я':  \n",
    "    print(\"rus\")"
   ]
  },
  {
   "cell_type": "code",
   "execution_count": 18,
   "metadata": {},
   "outputs": [
    {
     "name": "stdout",
     "output_type": "stream",
     "text": [
      "72 111\n"
     ]
    }
   ],
   "source": [
    "#Task no 7\n",
    "string = \"Hello\"  \n",
    "first_code = ord(string[0])\n",
    "last_code = ord(string[-1])\n",
    "print(first_code, last_code)  "
   ]
  },
  {
   "cell_type": "code",
   "execution_count": 19,
   "metadata": {},
   "outputs": [
    {
     "name": "stdout",
     "output_type": "stream",
     "text": [
      "olleH\n"
     ]
    }
   ],
   "source": [
    "string = \"Hello\"  \n",
    "reversed_string = string[::-1]\n",
    "print(reversed_string)  "
   ]
  }
 ],
 "metadata": {
  "kernelspec": {
   "display_name": "Python 3",
   "language": "python",
   "name": "python3"
  },
  "language_info": {
   "codemirror_mode": {
    "name": "ipython",
    "version": 3
   },
   "file_extension": ".py",
   "mimetype": "text/x-python",
   "name": "python",
   "nbconvert_exporter": "python",
   "pygments_lexer": "ipython3",
   "version": "3.12.0"
  }
 },
 "nbformat": 4,
 "nbformat_minor": 2
}
