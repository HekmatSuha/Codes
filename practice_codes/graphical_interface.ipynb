{
 "cells": [
  {
   "cell_type": "code",
   "execution_count": 43,
   "metadata": {},
   "outputs": [],
   "source": [
    "#slide no 1\n",
    "from tkinter import *\n",
    "\n",
    "window = Tk()\n",
    "window.title(\"Welcome to our first Graphical interface\")\n",
    "window.mainloop()"
   ]
  },
  {
   "cell_type": "code",
   "execution_count": 44,
   "metadata": {},
   "outputs": [],
   "source": [
    "#slide no2\n",
    "import tkinter as tk\n",
    "\n",
    "window = tk.Tk()\n",
    "label = tk.Label(window, text=\"Hello, World!\", font=(\"Helvetica\", 16, \"bold\"))\n",
    "label.pack()\n",
    "\n",
    "window.mainloop()\n"
   ]
  },
  {
   "cell_type": "code",
   "execution_count": 45,
   "metadata": {},
   "outputs": [],
   "source": [
    "#slide no3\n",
    "from tkinter import *\n",
    "\n",
    "window = Tk()\n",
    "window.title(\"Welcom to the python runner\")\n",
    "lbl = Label(window, text=\"Hello\")\n",
    "lbl.grid(column=0, row=0)\n",
    "window.mainloop()\n"
   ]
  },
  {
   "cell_type": "code",
   "execution_count": 46,
   "metadata": {},
   "outputs": [],
   "source": [
    "#slide no4\n",
    "from tkinter import *\n",
    "\n",
    "from tkinter import *\n",
    "\n",
    "window = Tk()\n",
    "window.title(\"Welcom to the python runner\")\n",
    "lbl = Label(window, text=\"Hello\", font=(\"Arial Bold\", 50))\n",
    "lbl.grid(column=0, row=0)\n",
    "window.mainloop()\n"
   ]
  },
  {
   "cell_type": "code",
   "execution_count": 47,
   "metadata": {},
   "outputs": [],
   "source": [
    "#slide no5\n",
    "import tkinter as tk\n",
    "\n",
    "from tkinter import *\n",
    "\n",
    "from tkinter import *\n",
    "\n",
    "window = Tk()\n",
    "window.title(\"Welcom to the python runner\")\n",
    "window.geometry('400x250')\n",
    "lbl = Label(window, text=\"Hello\", font=(\"Arial Bold\", 50))\n",
    "lbl.grid(column=0, row=0)\n",
    "window.mainloop()"
   ]
  },
  {
   "cell_type": "code",
   "execution_count": 48,
   "metadata": {},
   "outputs": [],
   "source": [
    "#slide no6\n",
    "from tkinter import *\n",
    "\n",
    "window = Tk()\n",
    "window.title(\"Welcom to the python runner\")\n",
    "window.geometry('400x250')\n",
    "lbl = Label(window, text=\"Hello\", font=(\"Arial Bold\", 50))\n",
    "lbl.grid(column=0, row=0)\n",
    "btn = Button(window, text=\"Do not press!\")\n",
    "btn.grid(column=1, row=0)\n",
    "window.mainloop()\n"
   ]
  },
  {
   "cell_type": "code",
   "execution_count": 49,
   "metadata": {},
   "outputs": [],
   "source": [
    "#slide no7\n",
    "from tkinter import *\n",
    "\n",
    "window = Tk()\n",
    "window.title(\"Welcom to the python runner\")\n",
    "window.geometry('400x250')\n",
    "lbl = Label(window, text=\"Hello\", font=(\"Arial Bold\", 50))\n",
    "lbl.grid(column=0, row=0)\n",
    "btn = Button(window, text=\"Do not press!\", bg=\"black\", fg=\"red\")\n",
    "btn.grid(column=1, row=0)\n",
    "window.mainloop()\n"
   ]
  },
  {
   "cell_type": "code",
   "execution_count": 50,
   "metadata": {},
   "outputs": [],
   "source": [
    "#slide no 8\n",
    "from tkinter import *\n",
    "\n",
    "def clicked():\n",
    "    lbl1.configure(text=\"I asked...\")\n",
    "\n",
    "window = Tk()\n",
    "window.title(\"Welcom to the python runner\")\n",
    "window.geometry('400x250')\n",
    "lbl1 = Label(window, text=\"Hello\", font=(\"Arial Bold\", 50))\n",
    "lbl1.grid(column=0, row=0)\n",
    "btn = Button(window, text=\"Do not press!\", command=clicked)\n",
    "btn.grid(column=1, row=0)\n",
    "window.mainloop()"
   ]
  },
  {
   "cell_type": "code",
   "execution_count": 52,
   "metadata": {},
   "outputs": [],
   "source": [
    "#slide no 9\n",
    "from tkinter import *\n",
    "\n",
    "def clicked():\n",
    "    lbl1.configure(text=\"I asked\")\n",
    "\n",
    "window = Tk()\n",
    "window.title(\"Welcom to the python runner\")\n",
    "window.geometry('400x250')\n",
    "lbl1 = Label(window, text=\"Hello\", font=(\"Arial Bold\", 50))\n",
    "lbl1.grid(column=0, row=0)\n",
    "txt = Entry(window, width=10)\n",
    "txt.grid(column=1, row=0)\n",
    "btn = Button(window, text=\"Do not press!\", command=clicked)\n",
    "btn.grid(column=2, row=0)\n",
    "window.mainloop()\n"
   ]
  },
  {
   "cell_type": "code",
   "execution_count": 53,
   "metadata": {},
   "outputs": [],
   "source": [
    "#slide no 10\n",
    "from tkinter import *\n",
    "\n",
    "def clicked():\n",
    "    res = \"Hello {}\".format(txt.get())\n",
    "    lbl1.configure(text=res)\n",
    "\n",
    "window = Tk()\n",
    "window.title(\"Welcom to the python runner\")\n",
    "window.geometry('400x250')\n",
    "lbl1 = Label(window, text=\"Hello\", font=(\"Arial Bold\", 50))\n",
    "lbl1.grid(column=0, row=0)\n",
    "txt = Entry(window, width=10)\n",
    "txt.grid(column=1, row=0)\n",
    "btn = Button(window, text=\"Do not press!\", command=clicked)\n",
    "btn.grid(column=2, row=0)\n",
    "window.mainloop()\n"
   ]
  },
  {
   "cell_type": "code",
   "execution_count": 54,
   "metadata": {},
   "outputs": [],
   "source": [
    "#slide no 11\n",
    "from tkinter import *\n",
    "\n",
    "def clicked():\n",
    "    res = \"Hello {}\".format(txt.get())\n",
    "    lbl1.configure(text=res)\n",
    "\n",
    "window = Tk()\n",
    "window.title(\"Welcom to the python runner\")\n",
    "window.geometry('400x250')\n",
    "lbl1 = Label(window, text=\"Hello\", font=(\"Arial Bold\", 50))\n",
    "lbl1.grid(column=0, row=0)\n",
    "txt = Entry(window, width=10)\n",
    "txt.grid(column=1, row=0)\n",
    "btn = Button(window, text=\"click!\", command=clicked)\n",
    "btn.grid(column=2, row=0)\n",
    "window.mainloop()\n"
   ]
  },
  {
   "cell_type": "code",
   "execution_count": 55,
   "metadata": {},
   "outputs": [],
   "source": [
    "#slide no 12\n",
    "from tkinter import *\n",
    "\n",
    "def clicked():\n",
    "    res = \"Hello {}\".format(txt.get())\n",
    "    lbl1.configure(text=res)\n",
    "\n",
    "window = Tk()\n",
    "window.title(\"Welcom to the python runner\")\n",
    "window.geometry('400x250')\n",
    "lbl1 = Label(window, text=\"Hello\", font=(\"Arial Bold\", 50))\n",
    "lbl1.grid(column=0, row=0)\n",
    "txt = Entry(window, width=10, state='disabled')\n",
    "txt.grid(column=1, row=0)\n",
    "btn = Button(window, text=\"click!\", command=clicked)\n",
    "btn.grid(column=2, row=0)\n",
    "window.mainloop()\n"
   ]
  },
  {
   "cell_type": "code",
   "execution_count": 56,
   "metadata": {},
   "outputs": [],
   "source": [
    "#slide no13\n",
    "from tkinter import *\n",
    "from tkinter.ttk import Combobox\n",
    "\n",
    "window = Tk()\n",
    "window.title(\"Welcom to the python runner\")\n",
    "window.geometry('400x250')\n",
    "\n",
    "combo = Combobox(window)\n",
    "combo['values'] = (1, 2, 3, 4, 5, \"Text\")\n",
    "combo.current(1)  # Set the default selection to the second item\n",
    "combo.grid(column=0, row=0)\n",
    "\n",
    "window.mainloop()\n"
   ]
  },
  {
   "cell_type": "code",
   "execution_count": 57,
   "metadata": {},
   "outputs": [],
   "source": [
    "#slide no 14\n",
    "from tkinter import *\n",
    "from tkinter.ttk import Combobox\n",
    "\n",
    "def show_selected():\n",
    "    selected_value = combo.get()\n",
    "    lbl1.configure(text=\"Selected: {}\".format(selected_value))\n",
    "\n",
    "window = Tk()\n",
    "window.title(\"Welcom to the python runner\")\n",
    "window.geometry('400x250')\n",
    "\n",
    "combo = Combobox(window)\n",
    "combo['values'] = (1, 2, 3, 4, 5, \"Текст\")\n",
    "combo.current(1)  # Set the default selection to the second item\n",
    "combo.grid(column=0, row=0)\n",
    "\n",
    "btn = Button(window, text=\"Show Selected\", command=show_selected)\n",
    "btn.grid(column=1, row=0)\n",
    "\n",
    "lbl1 = Label(window, text=\"\")\n",
    "lbl1.grid(column=0, row=1)\n",
    "\n",
    "window.mainloop()\n"
   ]
  },
  {
   "cell_type": "code",
   "execution_count": 58,
   "metadata": {},
   "outputs": [],
   "source": [
    "#Slide no 15\n",
    "from tkinter import *\n",
    "from tkinter.ttk import Checkbutton\n",
    "\n",
    "window = Tk()\n",
    "window.title(\"Welcom to the python runner\")\n",
    "window.geometry('400x250')\n",
    "\n",
    "chk_state = BooleanVar()\n",
    "chk_state.set(True)  # Set the checkbutton to be checked by default\n",
    "\n",
    "chk = Checkbutton(window, text=\"Choose\", var=chk_state)\n",
    "chk.grid(column=0, row=0)\n",
    "\n",
    "window.mainloop()\n"
   ]
  },
  {
   "cell_type": "code",
   "execution_count": 59,
   "metadata": {},
   "outputs": [],
   "source": [
    "#slide no 16\n",
    "from tkinter import *\n",
    "from tkinter.ttk import Checkbutton\n",
    "\n",
    "window = Tk()\n",
    "window.title(\"Welcom to the python runner\")\n",
    "window.geometry('400x250')\n",
    "\n",
    "chk_state = IntVar()\n",
    "chk_state.set(0)  # False\n",
    "\n",
    "chk = Checkbutton(window, text=\"Choose\", var=chk_state)\n",
    "chk.grid(column=0, row=0)\n",
    "\n",
    "window.mainloop()"
   ]
  },
  {
   "cell_type": "code",
   "execution_count": 60,
   "metadata": {},
   "outputs": [],
   "source": [
    "#Slide no 17\n",
    "from tkinter import *\n",
    "from tkinter.ttk import Radiobutton\n",
    "\n",
    "window = Tk()\n",
    "window.title(\"Welcom to the python runner\")\n",
    "window.geometry('400x250')\n",
    "\n",
    "rad1 = Radiobutton(window, text=\"First\", value=1)\n",
    "rad2 = Radiobutton(window, text=\"Second\", value=2)\n",
    "rad3 = Radiobutton(window, text=\"Third\", value=3)\n",
    "\n",
    "rad1.grid(column=0, row=0)\n",
    "rad2.grid(column=1, row=0)\n",
    "rad3.grid(column=2, row=0)\n",
    "\n",
    "window.mainloop()\n"
   ]
  },
  {
   "cell_type": "code",
   "execution_count": 61,
   "metadata": {},
   "outputs": [
    {
     "name": "stdout",
     "output_type": "stream",
     "text": [
      "Radiobutton clicked\n",
      "Radiobutton clicked\n",
      "Radiobutton clicked\n",
      "Radiobutton clicked\n"
     ]
    }
   ],
   "source": [
    "#Slide no 18\n",
    "from tkinter import *\n",
    "from tkinter.ttk import Radiobutton\n",
    "\n",
    "def clicked():\n",
    "    # This function will run when the radiobutton is clicked\n",
    "    print(\"Radiobutton clicked\")\n",
    "\n",
    "window = Tk()\n",
    "window.title(\"Welcom to the python runner\")\n",
    "window.geometry('400x250')\n",
    "\n",
    "rad1 = Radiobutton(window, text=\"First\", value=1, command=clicked)\n",
    "rad2 = Radiobutton(window, text=\"Second\", value=2, command=clicked)\n",
    "rad3 = Radiobutton(window, text=\"Third\", value=3, command=clicked)\n",
    "\n",
    "rad1.grid(column=0, row=0)\n",
    "rad2.grid(column=1, row=0)\n",
    "rad3.grid(column=2, row=0)\n",
    "\n",
    "window.mainloop()\n"
   ]
  },
  {
   "cell_type": "code",
   "execution_count": 62,
   "metadata": {},
   "outputs": [],
   "source": [
    "#slide no 19\n",
    "from tkinter import *\n",
    "from tkinter.ttk import Radiobutton\n",
    "\n",
    "def clicked():\n",
    "    lbl1.configure(text=selected.get())\n",
    "\n",
    "window = Tk()\n",
    "window.title(\"Welcom to the python runner\")\n",
    "window.geometry('400x250')\n",
    "\n",
    "selected = IntVar()\n",
    "\n",
    "rad1 = Radiobutton(window, text=\"First\", value=1, variable=selected)\n",
    "rad2 = Radiobutton(window, text=\"Second\", value=2, variable=selected)\n",
    "rad3 = Radiobutton(window, text=\"Third\", value=3, variable=selected)\n",
    "\n",
    "lbl1 = Label(window)\n",
    "lbl1.grid(column=0, row=1)\n",
    "\n",
    "btn = Button(window, text=\"Click\", command=clicked)\n",
    "btn.grid(column=3, row=0)\n",
    "\n",
    "rad1.grid(column=0, row=0)\n",
    "rad2.grid(column=1, row=0)\n",
    "rad3.grid(column=2, row=0)\n",
    "\n",
    "window.mainloop()\n"
   ]
  },
  {
   "cell_type": "code",
   "execution_count": 63,
   "metadata": {},
   "outputs": [],
   "source": [
    "#slid no 20\n",
    "from tkinter import *\n",
    "\n",
    "window = Tk()\n",
    "window.title(\"Anchor Example\")\n",
    "window.geometry('200x200')\n",
    "\n",
    "lbl1 = Label(window, text=\"Top Left\", anchor='nw')\n",
    "lbl1.pack(fill='both', expand=True)\n",
    "\n",
    "lbl2 = Label(window, text=\"Center\", anchor='center')\n",
    "lbl2.pack(fill='both', expand=True)\n",
    "\n",
    "lbl3 = Label(window, text=\"Bottom Right\", anchor='se')\n",
    "lbl3.pack(fill='both', expand=True)\n",
    "\n",
    "window.mainloop()\n"
   ]
  },
  {
   "cell_type": "code",
   "execution_count": 38,
   "metadata": {},
   "outputs": [],
   "source": [
    "#slide no 21\n",
    "from tkinter import *\n",
    "from tkinter import ttk\n",
    "\n",
    "root = Tk()\n",
    "root.title(\"METANIT.COM\")\n",
    "root.geometry(\"250x200\")\n",
    "\n",
    "btn = ttk.Button(text=\"Click me\")\n",
    "btn.pack(anchor=\"nw\")\n",
    "\n",
    "root.mainloop()\n"
   ]
  },
  {
   "cell_type": "code",
   "execution_count": 39,
   "metadata": {},
   "outputs": [],
   "source": [
    "#Slide no 22\n",
    "from tkinter import *\n",
    "from tkinter import ttk\n",
    "\n",
    "root = Tk()\n",
    "root.title(\"METANIT.COM\")\n",
    "root.geometry(\"250x200\")\n",
    "\n",
    "btn = ttk.Button(text=\"Click me\")\n",
    "btn.pack(fill=X)\n",
    "\n",
    "root.mainloop()\n"
   ]
  },
  {
   "cell_type": "code",
   "execution_count": 40,
   "metadata": {},
   "outputs": [],
   "source": [
    "#slide no 23\n",
    "from tkinter import *\n",
    "from tkinter import ttk\n",
    "\n",
    "root = Tk()\n",
    "root.title(\"METANIT.COM\")\n",
    "root.geometry(\"250x200\")\n",
    "\n",
    "btn = ttk.Button(text=\"Click me\")\n",
    "btn.pack(anchor=\"nw\", padx=20, pady=30)\n",
    "\n",
    "root.mainloop()\n"
   ]
  },
  {
   "cell_type": "code",
   "execution_count": 41,
   "metadata": {},
   "outputs": [],
   "source": [
    "#slide no 24\n",
    "from tkinter import *\n",
    "from tkinter import ttk\n",
    "\n",
    "root = Tk()\n",
    "root.title(\"METANIT.COM\")\n",
    "root.geometry(\"250x200\")\n",
    "\n",
    "btn = ttk.Button(text=\"Click me\")\n",
    "btn.place(relx=0.5, rely=0.5, anchor=\"c\", width=80, height=40)\n",
    "\n",
    "root.mainloop()\n"
   ]
  }
 ],
 "metadata": {
  "kernelspec": {
   "display_name": "Python 3",
   "language": "python",
   "name": "python3"
  },
  "language_info": {
   "codemirror_mode": {
    "name": "ipython",
    "version": 3
   },
   "file_extension": ".py",
   "mimetype": "text/x-python",
   "name": "python",
   "nbconvert_exporter": "python",
   "pygments_lexer": "ipython3",
   "version": "3.12.0"
  }
 },
 "nbformat": 4,
 "nbformat_minor": 2
}
