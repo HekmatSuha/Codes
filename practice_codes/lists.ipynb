{
 "cells": [
  {
   "cell_type": "code",
   "execution_count": 1,
   "metadata": {},
   "outputs": [
    {
     "name": "stdout",
     "output_type": "stream",
     "text": [
      "[10, -2, 6, -15, -1, 16]\n"
     ]
    }
   ],
   "source": [
    "#Task no 1A\n",
    "list = [10, -2, 6, -15, -1,16]\n",
    "\n",
    "print(list)"
   ]
  },
  {
   "cell_type": "code",
   "execution_count": 4,
   "metadata": {},
   "outputs": [
    {
     "name": "stdout",
     "output_type": "stream",
     "text": [
      "10\n",
      "6\n",
      "16\n"
     ]
    }
   ],
   "source": [
    "#Task no 1B\n",
    "list = [10, -2, 6, -15, -1,16]\n",
    "for item in list:\n",
    "    if item > 0:\n",
    "        print (item)\n",
    "    else:\n",
    "        pass\n"
   ]
  },
  {
   "cell_type": "code",
   "execution_count": 8,
   "metadata": {},
   "outputs": [
    {
     "name": "stdout",
     "output_type": "stream",
     "text": [
      "[10, 5, 4, 2, 8, 10]\n"
     ]
    }
   ],
   "source": [
    "#Task no 2 Changing all numbers to positive\n",
    "list = [10, -5, 4, -2, -8, 10]\n",
    "\n",
    "for i in range(len(list)):\n",
    "    if list[i]<0:\n",
    "        list[i] = abs(list[i])\n",
    "    else:\n",
    "        pass\n",
    "\n",
    "print(list)"
   ]
  },
  {
   "cell_type": "code",
   "execution_count": 19,
   "metadata": {},
   "outputs": [
    {
     "name": "stdout",
     "output_type": "stream",
     "text": [
      "['Ivan', 'Arman', 'Bolat', 'Madina', 'Dina', 'Nurlan', 'Robert']\n"
     ]
    }
   ],
   "source": [
    "#Task no 3 on slide\n",
    "list = ['Arman', 'Bolat', 'Dina', 'Nurlan']\n",
    "\n",
    "list.append('Robert')\n",
    "list.insert(0,'Ivan')\n",
    "list.insert(3,'Madina')\n",
    "\n",
    "print(list)"
   ]
  },
  {
   "cell_type": "code",
   "execution_count": 25,
   "metadata": {},
   "outputs": [
    {
     "name": "stdout",
     "output_type": "stream",
     "text": [
      "['Semey', 'Astana', 'Almaty', 'Aqtobe', 'Taraz']\n",
      "['Astana', 'Almaty', 'Aqtobe', 'Taraz']\n"
     ]
    },
    {
     "name": "stdout",
     "output_type": "stream",
     "text": [
      "['Almaty', 'Aqtobe', 'Taraz']\n"
     ]
    }
   ],
   "source": [
    "#Task no 4 on slide removing elements\n",
    "cities = ['Semey', 'Astana','Almaty', 'Aqtobe','Taraz', 'Qostanay']\n",
    "cities.pop()\n",
    "print(cities)\n",
    "cities.remove('Semey')\n",
    "print(cities)\n",
    "\n",
    "c = input(\"Enter your city: \")\n",
    "\n",
    "if c in cities:\n",
    "    cities.remove(c)\n",
    "\n",
    "print(cities)"
   ]
  }
 ],
 "metadata": {
  "kernelspec": {
   "display_name": "Python 3",
   "language": "python",
   "name": "python3"
  },
  "language_info": {
   "codemirror_mode": {
    "name": "ipython",
    "version": 3
   },
   "file_extension": ".py",
   "mimetype": "text/x-python",
   "name": "python",
   "nbconvert_exporter": "python",
   "pygments_lexer": "ipython3",
   "version": "3.12.0"
  }
 },
 "nbformat": 4,
 "nbformat_minor": 2
}
