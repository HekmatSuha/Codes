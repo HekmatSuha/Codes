{
 "cells": [
  {
   "cell_type": "code",
   "execution_count": 5,
   "metadata": {},
   "outputs": [
    {
     "name": "stdout",
     "output_type": "stream",
     "text": [
      "Your password: \n",
      "44b$6Teb$*7&fbTa\n"
     ]
    }
   ],
   "source": [
    "import random\n",
    "\n",
    "print('Your password: ')\n",
    "\n",
    "chars = 'abkfjdkfhdfjdbceit7486346$&**$#$*&*TY'\n",
    "\n",
    "password = ''\n",
    "\n",
    "for x in range(16):\n",
    "    password += random.choice(chars)\n",
    "\n",
    "print(password)\n"
   ]
  }
 ],
 "metadata": {
  "kernelspec": {
   "display_name": "Python 3",
   "language": "python",
   "name": "python3"
  },
  "language_info": {
   "codemirror_mode": {
    "name": "ipython",
    "version": 3
   },
   "file_extension": ".py",
   "mimetype": "text/x-python",
   "name": "python",
   "nbconvert_exporter": "python",
   "pygments_lexer": "ipython3",
   "version": "3.12.0"
  }
 },
 "nbformat": 4,
 "nbformat_minor": 2
}
