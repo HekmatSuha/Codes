{
 "cells": [
  {
   "cell_type": "code",
   "execution_count": 3,
   "metadata": {},
   "outputs": [
    {
     "name": "stdout",
     "output_type": "stream",
     "text": [
      "[20, 30]\n",
      "[24, 34]\n"
     ]
    }
   ],
   "source": [
    "#Task no 1\n",
    "def task_1():\n",
    "    a = [int(i) for i in input().split()]\n",
    "    b = int(input())\n",
    "    print(a)\n",
    "\n",
    "    for i, e in enumerate(a):\n",
    "        a[i] += b\n",
    "    print(a)\n",
    "\n",
    "\n",
    "task_1()"
   ]
  },
  {
   "cell_type": "code",
   "execution_count": 5,
   "metadata": {},
   "outputs": [
    {
     "name": "stdout",
     "output_type": "stream",
     "text": [
      "['10', '30', '34', '12']\n"
     ]
    }
   ],
   "source": [
    "#Task no 2\n",
    "def task_2():\n",
    "    a = [i for i in input().split()]\n",
    "    b = input()\n",
    "    if b in a:\n",
    "        a.remove(b)\n",
    "    else:\n",
    "        a.append(b)\n",
    "    print(a)\n",
    "task_2()\n"
   ]
  },
  {
   "cell_type": "code",
   "execution_count": 6,
   "metadata": {},
   "outputs": [
    {
     "name": "stdout",
     "output_type": "stream",
     "text": [
      "['ahmet', 'ali']\n",
      "['ahmet', 'ali', 'ayse']\n",
      "['ahmet', 'ayse']\n",
      "['ayse']\n",
      "[]\n"
     ]
    }
   ],
   "source": [
    "#Task no 3\n",
    "def task_3():\n",
    "    a = [i for i in input().split()]\n",
    "    while len(a):\n",
    "        b = input()\n",
    "        if b in a:\n",
    "            a.remove(b)\n",
    "        else:\n",
    "            a.append(b)\n",
    "        print(a)\n",
    "task_3()"
   ]
  },
  {
   "cell_type": "code",
   "execution_count": null,
   "metadata": {},
   "outputs": [],
   "source": [
    "\n"
   ]
  }
 ],
 "metadata": {
  "kernelspec": {
   "display_name": "Python 3",
   "language": "python",
   "name": "python3"
  },
  "language_info": {
   "codemirror_mode": {
    "name": "ipython",
    "version": 3
   },
   "file_extension": ".py",
   "mimetype": "text/x-python",
   "name": "python",
   "nbconvert_exporter": "python",
   "pygments_lexer": "ipython3",
   "version": "3.12.0"
  }
 },
 "nbformat": 4,
 "nbformat_minor": 2
}
