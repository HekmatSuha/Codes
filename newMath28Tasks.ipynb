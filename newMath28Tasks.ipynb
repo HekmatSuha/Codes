{
 "cells": [
  {
   "cell_type": "code",
   "execution_count": 1,
   "metadata": {},
   "outputs": [
    {
     "name": "stdout",
     "output_type": "stream",
     "text": [
      "The value of G is: 4.720719145100696\n"
     ]
    }
   ],
   "source": [
    "#Task no 1\n",
    "import math\n",
    "\n",
    "y = float(input(\"Enter the value of y: \"))\n",
    "f = float(input(\"Enter the value of f: \"))\n",
    "\n",
    "G = (math.exp(2 * y) + math.sin(f)) / math.log(3.8 * y + f)\n",
    "print(\"The value of G is:\", G)"
   ]
  },
  {
   "cell_type": "code",
   "execution_count": 2,
   "metadata": {},
   "outputs": [
    {
     "name": "stdout",
     "output_type": "stream",
     "text": [
      "The value of F is: -6.8844854540987885\n"
     ]
    }
   ],
   "source": [
    "#Task no 2\n",
    "import math\n",
    "\n",
    "d = float(input(\"Enter the value of d: \"))\n",
    "y = float(input(\"Enter the value of y: \"))\n",
    "\n",
    "F = math.log(d) + (3.5 * d**2 + 1) / math.cos(2 * y)\n",
    "print(\"The value of F is:\", F)"
   ]
  },
  {
   "cell_type": "code",
   "execution_count": 7,
   "metadata": {},
   "outputs": [
    {
     "name": "stdout",
     "output_type": "stream",
     "text": [
      "The value of U is: 1.340070493039306\n"
     ]
    }
   ],
   "source": [
    "#Task no 3\n",
    "import math\n",
    "\n",
    "k = float(input(\"Enter the value of k: \"))\n",
    "y = float(input(\"Enter the value of y: \"))\n",
    "\n",
    "if k - y <= 0:\n",
    "    print(\"Error: k - y must be greater than 0 for the logarithm.\")\n",
    "else:\n",
    "    U = math.log(k - y) + y**4 / (math.exp(y) + 2.355 * k**2)\n",
    "    print(\"The value of U is:\", U)"
   ]
  },
  {
   "cell_type": "code",
   "execution_count": 8,
   "metadata": {},
   "outputs": [
    {
     "name": "stdout",
     "output_type": "stream",
     "text": [
      "The value of G is: 3.3119996793569575\n"
     ]
    }
   ],
   "source": [
    "#Task no 4\n",
    "import math\n",
    "\n",
    "w = float(input(\"Enter the value of w: \"))\n",
    "y = float(input(\"Enter the value of y: \"))\n",
    "\n",
    "G = (9.33 * w**3 + math.sqrt(w)) / (math.log(y + 3.5) + math.sqrt(y))\n",
    "print(\"The value of G is:\", G)"
   ]
  },
  {
   "cell_type": "code",
   "execution_count": 9,
   "metadata": {},
   "outputs": [
    {
     "name": "stdout",
     "output_type": "stream",
     "text": [
      "The value of D is: 0.6735826272027609\n"
     ]
    }
   ],
   "source": [
    "#Task no 5\n",
    "import math\n",
    "\n",
    "a = float(input(\"Enter the value of a: \"))\n",
    "t = float(input(\"Enter the value of t: \"))\n",
    "y = float(input(\"Enter the value of y: \"))\n",
    "\n",
    "D = (7.8 * a**2 + 3.52 * t) / (math.log(a + 2 * y) + math.exp(y))\n",
    "print(\"The value of D is:\", D)"
   ]
  },
  {
   "cell_type": "code",
   "execution_count": 10,
   "metadata": {},
   "outputs": [
    {
     "name": "stdout",
     "output_type": "stream",
     "text": [
      "The value of L is: 0.1625031379318082\n"
     ]
    }
   ],
   "source": [
    "#Task no 6\n",
    "import math\n",
    "\n",
    "i = float(input(\"Enter the value of i: \"))\n",
    "y = float(input(\"Enter the value of y: \"))\n",
    "\n",
    "L = 0.81 * math.cos(i) / (math.log(y) + 2 * (i**3))\n",
    "print(\"The value of L is:\", L)"
   ]
  },
  {
   "cell_type": "code",
   "execution_count": 11,
   "metadata": {},
   "outputs": [
    {
     "name": "stdout",
     "output_type": "stream",
     "text": [
      "The value of N is: 1.4102163707765314\n"
     ]
    }
   ],
   "source": [
    "#Task no 7\n",
    "import math\n",
    "\n",
    "m = float(input(\"Enter the value of m: \"))\n",
    "y = float(input(\"Enter the value of y: \"))\n",
    "\n",
    "N = (m**2 + 2.8 * m + 0.355) / (math.cos(2 * y) + 3.6)\n",
    "print(\"The value of N is:\", N)"
   ]
  },
  {
   "cell_type": "code",
   "execution_count": 12,
   "metadata": {},
   "outputs": [
    {
     "name": "stdout",
     "output_type": "stream",
     "text": [
      "The value of T is: 0.47252266057863107\n"
     ]
    }
   ],
   "source": [
    "#Task no 8\n",
    "import math\n",
    "\n",
    "t = float(input(\"Enter the value of t: \"))\n",
    "y = float(input(\"Enter the value of y: \"))\n",
    "\n",
    "T = 2.37 * math.sin(t + 1) / math.sqrt(4 * y**2 - 0.1 * y + 5)\n",
    "print(\"The value of T is:\", T)"
   ]
  },
  {
   "cell_type": "code",
   "execution_count": 13,
   "metadata": {},
   "outputs": [
    {
     "name": "stdout",
     "output_type": "stream",
     "text": [
      "The value of V is: 223.3675366114304\n"
     ]
    }
   ],
   "source": [
    "#Task no 9\n",
    "import math\n",
    "\n",
    "y = float(input(\"Enter the value of y: \"))\n",
    "w = float(input(\"Enter the value of w: \"))\n",
    "\n",
    "V = (y + 2 * w)**3 / math.log(y + 0.75)\n",
    "print(\"The value of V is:\", V)"
   ]
  },
  {
   "cell_type": "code",
   "execution_count": 14,
   "metadata": {},
   "outputs": [
    {
     "name": "stdout",
     "output_type": "stream",
     "text": [
      "The value of Z is: 1.1786743118184833\n"
     ]
    }
   ],
   "source": [
    "#Task no 10\n",
    "import math\n",
    "\n",
    "t = float(input(\"Enter the value of t: \"))\n",
    "y = float(input(\"Enter the value of y: \"))\n",
    "\n",
    "Z = (2 * t + y * math.cos(t)) / math.sqrt(y + 4.831)\n",
    "print(\"The value of Z is:\", Z)"
   ]
  },
  {
   "cell_type": "code",
   "execution_count": 15,
   "metadata": {},
   "outputs": [
    {
     "name": "stdout",
     "output_type": "stream",
     "text": [
      "The value of D is: 113.62202255614625\n"
     ]
    }
   ],
   "source": [
    "#Task no 11\n",
    "import math\n",
    "\n",
    "y = float(input(\"Enter the value of y: \"))\n",
    "n = float(input(\"Enter the value of n: \"))\n",
    "\n",
    "D = y**2 + (0.5 * n + 4.8) / math.sin(y)\n",
    "print(\"The value of D is:\", D)"
   ]
  },
  {
   "cell_type": "code",
   "execution_count": 16,
   "metadata": {},
   "outputs": [
    {
     "name": "stdout",
     "output_type": "stream",
     "text": [
      "The value of R is: 0.7469895022318744\n"
     ]
    }
   ],
   "source": [
    "#Task no 12\n",
    "import math\n",
    "\n",
    "t = float(input(\"Enter the value of t: \"))\n",
    "y = float(input(\"Enter the value of y: \"))\n",
    "\n",
    "R = (math.sin(2 * t + 1))**2 + 0.3 / math.log(t + y)\n",
    "print(\"The value of R is:\", R)"
   ]
  },
  {
   "cell_type": "code",
   "execution_count": 17,
   "metadata": {},
   "outputs": [
    {
     "name": "stdout",
     "output_type": "stream",
     "text": [
      "The value of A is: 0.38659861925413525\n"
     ]
    }
   ],
   "source": [
    "#Task no 13\n",
    "import math\n",
    "\n",
    "y = float(input(\"Enter the value of y: \"))\n",
    "h = float(input(\"Enter the value of h: \"))\n",
    "\n",
    "A = (math.sin(2 * y + h) + h**2) / (math.exp(h) + y)\n",
    "print(\"The value of A is:\", A)"
   ]
  },
  {
   "cell_type": "code",
   "execution_count": 18,
   "metadata": {},
   "outputs": [
    {
     "name": "stdout",
     "output_type": "stream",
     "text": [
      "The value of W is: 6912.0\n"
     ]
    }
   ],
   "source": [
    "#Task no 16\n",
    "import math\n",
    "\n",
    "t = float(input(\"Enter the value of t: \"))\n",
    "r = float(input(\"Enter the value of r: \"))\n",
    "y = float(input(\"Enter the value of y: \"))\n",
    "\n",
    "W = 4 * t**3 + math.log(r) / (math.exp(y + r) + 7.2 * math.sin(r))\n",
    "print(\"The value of W is:\", W)\n"
   ]
  },
  {
   "cell_type": "code",
   "execution_count": 19,
   "metadata": {},
   "outputs": [
    {
     "name": "stdout",
     "output_type": "stream",
     "text": [
      "The value of H is: 112.20027142361344\n"
     ]
    }
   ],
   "source": [
    "#Task no 17\n",
    "import math\n",
    "\n",
    "y = float(input(\"Enter the value of y: \"))\n",
    "n = float(input(\"Enter the value of n: \"))\n",
    "\n",
    "H = y**2 - 0.8 * y + math.sqrt(y) / (23.1 * n**2 + math.cos(n))\n",
    "print(\"The value of H is:\", H)"
   ]
  },
  {
   "cell_type": "code",
   "execution_count": 20,
   "metadata": {},
   "outputs": [
    {
     "name": "stdout",
     "output_type": "stream",
     "text": [
      "The value of R is: 0.18115370272959092\n"
     ]
    }
   ],
   "source": [
    "#Task no 18\n",
    "import math\n",
    "\n",
    "y = float(input(\"Enter the value of y: \"))\n",
    "k = float(input(\"Enter the value of k: \"))\n",
    "\n",
    "R = math.sqrt(math.sin(y**2) + 6.835) / (math.log(y + k) + 3 * y**2)\n",
    "print(\"The value of R is:\", R)"
   ]
  },
  {
   "cell_type": "code",
   "execution_count": 21,
   "metadata": {},
   "outputs": [
    {
     "name": "stdout",
     "output_type": "stream",
     "text": [
      "The value of E is: 0.5650899301153637\n"
     ]
    }
   ],
   "source": [
    "#Task no 19\n",
    "import math\n",
    "\n",
    "y = float(input(\"Enter the value of y: \"))\n",
    "q = float(input(\"Enter the value of q: \"))\n",
    "\n",
    "E = math.log(0.7 * y + 2 * q) / math.sqrt(3 * y**2 + 0.5 * y + 4)\n",
    "print(\"The value of E is:\", E)"
   ]
  },
  {
   "cell_type": "code",
   "execution_count": 22,
   "metadata": {},
   "outputs": [
    {
     "name": "stdout",
     "output_type": "stream",
     "text": [
      "The value of K is: 8.129271427994304\n"
     ]
    }
   ],
   "source": [
    "#Task no 20\n",
    "import math\n",
    "\n",
    "t = float(input(\"Enter the value of t: \"))\n",
    "l = float(input(\"Enter the value of l: \"))\n",
    "y = float(input(\"Enter the value of y: \"))\n",
    "\n",
    "K = 2 * t**2 + 3 * l + 7.2 / (math.log(y) + math.exp(2 * l))\n",
    "print(\"The value of K is:\", K)"
   ]
  },
  {
   "cell_type": "code",
   "execution_count": 23,
   "metadata": {},
   "outputs": [
    {
     "name": "stdout",
     "output_type": "stream",
     "text": [
      "The value of Q is: -0.03800892807676943\n"
     ]
    }
   ],
   "source": [
    "#Task no 21\n",
    "import math\n",
    "\n",
    "k = float(input(\"Enter the value of k: \"))\n",
    "p = float(input(\"Enter the value of p: \"))\n",
    "x = float(input(\"Enter the value of x: \"))\n",
    "d = float(input(\"Enter the value of d: \"))\n",
    "\n",
    "Q = math.sqrt(k + 2.6 * p * math.sin(k)) / (x - d**3)\n",
    "print(\"The value of Q is:\", Q)"
   ]
  },
  {
   "cell_type": "code",
   "execution_count": 24,
   "metadata": {},
   "outputs": [
    {
     "name": "stdout",
     "output_type": "stream",
     "text": [
      "The value of S is: 5.748723242825931\n"
     ]
    }
   ],
   "source": [
    "#Task no 22\n",
    "import math\n",
    "\n",
    "y = float(input(\"Enter the value of y: \"))\n",
    "t = float(input(\"Enter the value of t: \"))\n",
    "\n",
    "S = 4.351 * y**3 + 2 * t * math.log(t) / math.sqrt(math.cos(2 * y) + 4.351)\n",
    "print(\"The value of S is:\", S)"
   ]
  },
  {
   "cell_type": "code",
   "execution_count": 25,
   "metadata": {},
   "outputs": [
    {
     "name": "stdout",
     "output_type": "stream",
     "text": [
      "The value of R is: 1.0173503592324398\n"
     ]
    }
   ],
   "source": [
    "#Task no 23\n",
    "import math\n",
    "\n",
    "y = float(input(\"Enter the value of y: \"))\n",
    "d = float(input(\"Enter the value of d: \"))\n",
    "\n",
    "R = math.sin(y**2) + 0.3 * d / (math.exp(y) + math.log(d))\n",
    "print(\"The value of R is:\",R)"
   ]
  },
  {
   "cell_type": "code",
   "execution_count": 26,
   "metadata": {},
   "outputs": [
    {
     "name": "stdout",
     "output_type": "stream",
     "text": [
      "The value of U is: 0.20907568485467765\n"
     ]
    }
   ],
   "source": [
    "#Task no 24\n",
    "import math\n",
    "\n",
    "k = float(input(\"Enter the value of k: \"))\n",
    "y = float(input(\"Enter the value of y: \"))\n",
    "\n",
    "U = math.log(2*k + 4.3) / (math.exp(k*y) + math.sqrt(y))\n",
    "print(\"The value of U is:\", U)"
   ]
  },
  {
   "cell_type": "code",
   "execution_count": 27,
   "metadata": {},
   "outputs": [
    {
     "name": "stdout",
     "output_type": "stream",
     "text": [
      "The value of L is: 9.529530888760442\n"
     ]
    }
   ],
   "source": [
    "#Task no 25\n",
    "import math\n",
    "\n",
    "c = float(input(\"Enter the value of c: \"))\n",
    "t = float(input(\"Enter the value of t: \"))\n",
    "\n",
    "L = math.cos(c)**2 + (3*t**2 + 4) / math.sqrt(c + t)\n",
    "print(\"The value of L is:\", L)"
   ]
  },
  {
   "cell_type": "code",
   "execution_count": 28,
   "metadata": {},
   "outputs": [
    {
     "name": "stdout",
     "output_type": "stream",
     "text": [
      "The value of T is: -0.36394506897104706\n"
     ]
    }
   ],
   "source": [
    "#Task no 26\n",
    "u = float(input(\"Enter the value of u: \"))\n",
    "y = float(input(\"Enter the value of y: \"))\n",
    "\n",
    "T = math.sin(2*u) / math.log(2*y + u)\n",
    "print(\"The value of T is:\", T)"
   ]
  },
  {
   "cell_type": "code",
   "execution_count": 29,
   "metadata": {},
   "outputs": [
    {
     "name": "stdout",
     "output_type": "stream",
     "text": [
      "The value of Z is: 0.08574933071384805\n"
     ]
    }
   ],
   "source": [
    "#Task no 27\n",
    "p = float(input(\"Enter the value of p: \"))\n",
    "y = float(input(\"Enter the value of y: \"))\n",
    "\n",
    "Z = math.sin(p + 0.4)**2 / (y**2 + 7.325*p)\n",
    "print(\"The value of Z is:\", Z)"
   ]
  },
  {
   "cell_type": "code",
   "execution_count": 30,
   "metadata": {},
   "outputs": [
    {
     "name": "stdout",
     "output_type": "stream",
     "text": [
      "The value of W is: 0.436785200265154\n"
     ]
    }
   ],
   "source": [
    "#Task no 28\n",
    "v = float(input(\"Enter the value of v: \"))\n",
    "y = float(input(\"Enter the value of y: \"))\n",
    "\n",
    "W = 0.004 * v * math.exp(2*y) / (math.e**2)\n",
    "print(\"The value of W is:\", W)"
   ]
  }
 ],
 "metadata": {
  "kernelspec": {
   "display_name": "Python 3",
   "language": "python",
   "name": "python3"
  },
  "language_info": {
   "codemirror_mode": {
    "name": "ipython",
    "version": 3
   },
   "file_extension": ".py",
   "mimetype": "text/x-python",
   "name": "python",
   "nbconvert_exporter": "python",
   "pygments_lexer": "ipython3",
   "version": "3.12.0"
  }
 },
 "nbformat": 4,
 "nbformat_minor": 2
}
