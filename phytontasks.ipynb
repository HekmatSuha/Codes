{
 "cells": [
  {
   "cell_type": "code",
   "execution_count": 5,
   "metadata": {},
   "outputs": [
    {
     "name": "stdout",
     "output_type": "stream",
     "text": [
      "The total number of 12 weeks and 3 days are equal to 87 days\n"
     ]
    }
   ],
   "source": [
    "weeks = int(input(\"Enter the number of weeks: \"))\n",
    "days = int(input(\"Enter the number of days: \"))\n",
    "\n",
    "a=weeks\n",
    "b= days\n",
    "\n",
    "total_days = weeks * 7 + days\n",
    "\n",
    "print(f\"The total number of {a} weeks and {b} days are equal to {total_days} days\")"
   ]
  },
  {
   "cell_type": "code",
   "execution_count": 6,
   "metadata": {},
   "outputs": [
    {
     "name": "stdout",
     "output_type": "stream",
     "text": [
      "The total number of 3 minutes and 4 seconds are equal to 184 seconds\n"
     ]
    }
   ],
   "source": [
    "minutes = int(input(\"Enter the number of minutes: \"))\n",
    "seconds = int(input(\"Enter the number of seconds: \"))\n",
    "\n",
    "a=minutes\n",
    "b= seconds\n",
    "\n",
    "total_seconds = minutes * 60 + seconds\n",
    "\n",
    "print(f\"The total amount of {a} minutes and {b} seconds are equal to {total_seconds} seconds\")"
   ]
  },
  {
   "cell_type": "code",
   "execution_count": 7,
   "metadata": {},
   "outputs": [
    {
     "name": "stdout",
     "output_type": "stream",
     "text": [
      "The average of 2 , 3 and 4 are equal to 3.0\n"
     ]
    }
   ],
   "source": [
    "num1 = int(input(\"Enter the first number: \"))\n",
    "num2 = int(input(\"Enter the second number: \"))\n",
    "num3 = int(input(\"Enter the thirds number: \"))\n",
    "\n",
    "a=num1\n",
    "b= num2\n",
    "c=num3\n",
    "\n",
    "averageofnumbers = (a+b+c)/3\n",
    "\n",
    "print(f\"The average of {a} , {b} and {c} are equal to {averageofnumbers}\")"
   ]
  }
 ],
 "metadata": {
  "kernelspec": {
   "display_name": "Python 3",
   "language": "python",
   "name": "python3"
  },
  "language_info": {
   "codemirror_mode": {
    "name": "ipython",
    "version": 3
   },
   "file_extension": ".py",
   "mimetype": "text/x-python",
   "name": "python",
   "nbconvert_exporter": "python",
   "pygments_lexer": "ipython3",
   "version": "3.12.0"
  }
 },
 "nbformat": 4,
 "nbformat_minor": 2
}
