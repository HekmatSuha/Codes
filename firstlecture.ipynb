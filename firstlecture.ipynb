{
 "cells": [
  {
   "cell_type": "code",
   "execution_count": 30,
   "metadata": {},
   "outputs": [
    {
     "name": "stdout",
     "output_type": "stream",
     "text": [
      "The average is:  15.0\n"
     ]
    }
   ],
   "source": [
    "a=5\n",
    "b=25\n",
    "average=(a+b)/2\n",
    "print(\"The average is: \",average)"
   ]
  },
  {
   "cell_type": "code",
   "execution_count": 31,
   "metadata": {},
   "outputs": [
    {
     "name": "stdout",
     "output_type": "stream",
     "text": [
      "The primeter of square is:  20\n",
      "The area of square is:  25\n"
     ]
    }
   ],
   "source": [
    "s=5\n",
    "primeter = s*4\n",
    "area = s**2\n",
    "print(\"The primeter of square is: \",primeter)\n",
    "print(\"The area of square is: \",area)"
   ]
  },
  {
   "cell_type": "code",
   "execution_count": 14,
   "metadata": {},
   "outputs": [
    {
     "name": "stdout",
     "output_type": "stream",
     "text": [
      "The primeter is:  14.379944\n",
      "The primeter is:  13.439200000000001\n"
     ]
    }
   ],
   "source": [
    "r=2.14\n",
    "pi=3.14\n",
    "area=pi*r**2\n",
    "primeter=2*pi*r\n",
    "print(\"The area of circle is: \",area)\n",
    "print(\"The primeter of circle is: \",primeter)"
   ]
  },
  {
   "cell_type": "code",
   "execution_count": 13,
   "metadata": {},
   "outputs": [
    {
     "name": "stdout",
     "output_type": "stream",
     "text": [
      "My name is:  Hekmat Suha\n"
     ]
    }
   ],
   "source": [
    "myname=\"Hekmat Suha\"\n",
    "print(\"Hello,my name is: \",myname)"
   ]
  },
  {
   "cell_type": "code",
   "execution_count": 27,
   "metadata": {},
   "outputs": [
    {
     "name": "stdout",
     "output_type": "stream",
     "text": [
      "The primeter is:  14.0\n",
      "The area is:  12.0\n"
     ]
    }
   ],
   "source": [
    "side1 = float(input(\"Enter the length of the rectangle: \"))\n",
    "side2 = float(input(\"Enter the width of the rectangle: \"))\n",
    "\n",
    "primeter=2*(side1+side2)\n",
    "area=side1*side2\n",
    "\n",
    "print(\"The primeter is: \",primeter)\n",
    "print(\"The area is: \",area)\n"
   ]
  },
  {
   "cell_type": "code",
   "execution_count": 25,
   "metadata": {},
   "outputs": [
    {
     "name": "stdout",
     "output_type": "stream",
     "text": [
      "Hello, my name is 4 and after two years I will be 5\n"
     ]
    }
   ],
   "source": [
    "\n",
    "name = input(\"Enter your name: \")\n",
    "age = int(input(\"Enter your age: \"))\n",
    "\n",
    "\n",
    "age_after_two_years = age + 2\n",
    "\n",
    "print(f'Hello, my name is {name} and after two years I will be {age_after_two_years}')"
   ]
  }
 ],
 "metadata": {
  "kernelspec": {
   "display_name": "Python 3",
   "language": "python",
   "name": "python3"
  },
  "language_info": {
   "codemirror_mode": {
    "name": "ipython",
    "version": 3
   },
   "file_extension": ".py",
   "mimetype": "text/x-python",
   "name": "python",
   "nbconvert_exporter": "python",
   "pygments_lexer": "ipython3",
   "version": "3.12.0"
  }
 },
 "nbformat": 4,
 "nbformat_minor": 2
}
