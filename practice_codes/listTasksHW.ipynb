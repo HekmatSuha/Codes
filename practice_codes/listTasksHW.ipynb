{
 "cells": [
  {
   "cell_type": "code",
   "execution_count": 2,
   "metadata": {},
   "outputs": [
    {
     "name": "stdout",
     "output_type": "stream",
     "text": [
      "115.62\n"
     ]
    }
   ],
   "source": [
    "#Task HW1\n",
    "def hw_task_1():\n",
    "    lab=[1.1, 2.4, 6.8,7.9 ]\n",
    "    s = 0\n",
    "    for i in lab:\n",
    "        s+=i**2\n",
    "    print(s)\n",
    "hw_task_1()"
   ]
  },
  {
   "cell_type": "code",
   "execution_count": 3,
   "metadata": {},
   "outputs": [
    {
     "name": "stdout",
     "output_type": "stream",
     "text": [
      "160\n"
     ]
    }
   ],
   "source": [
    "#Task HW2\n",
    "def hw_task_2():\n",
    "    lab=[1,1,4,5,4,8,10]\n",
    "    s = 1\n",
    "    for i in range(0, len(lab), 2):\n",
    "        s*= lab[i]\n",
    "    print(s)\n",
    "    \n",
    "hw_task_2()"
   ]
  },
  {
   "cell_type": "code",
   "execution_count": 8,
   "metadata": {},
   "outputs": [
    {
     "name": "stdout",
     "output_type": "stream",
     "text": [
      "[20, 34, 24]\n"
     ]
    }
   ],
   "source": [
    "#Task HW3\n",
    "def hw_task_3():\n",
    "    lab=[6,20,34,24]\n",
    "    lab=list(filter(lambda x: x>10, lab))\n",
    "    print(lab)\n",
    "\n",
    "hw_task_3()"
   ]
  },
  {
   "cell_type": "code",
   "execution_count": 7,
   "metadata": {},
   "outputs": [
    {
     "name": "stdout",
     "output_type": "stream",
     "text": [
      "[1, 3]\n"
     ]
    }
   ],
   "source": [
    "#Task HW4\n",
    "def hw_task_4():\n",
    "    n = int(input())\n",
    "    print([i for i in range(1, n+1, 2)])\n",
    "\n",
    "hw_task_4()"
   ]
  },
  {
   "cell_type": "code",
   "execution_count": 9,
   "metadata": {},
   "outputs": [
    {
     "name": "stdout",
     "output_type": "stream",
     "text": [
      "[2, 4, 8, 16, 32]\n"
     ]
    }
   ],
   "source": [
    "#Task HW5\n",
    "def hw_task_5():\n",
    "    n = int(input())\n",
    "    print([2**i for i in range(1, n+1)])\n",
    "\n",
    "hw_task_5()"
   ]
  },
  {
   "cell_type": "code",
   "execution_count": 10,
   "metadata": {},
   "outputs": [
    {
     "name": "stdout",
     "output_type": "stream",
     "text": [
      "[3, 7]\n"
     ]
    }
   ],
   "source": [
    "#Task HW6\n",
    "def hw_task_6():\n",
    "    n, a, d = [int(i) for i in input(\"N, A, D: \").split()]\n",
    "    print([a+d*i for i in range(0, n)])\n",
    "\n",
    "hw_task_6()"
   ]
  }
 ],
 "metadata": {
  "kernelspec": {
   "display_name": "Python 3",
   "language": "python",
   "name": "python3"
  },
  "language_info": {
   "codemirror_mode": {
    "name": "ipython",
    "version": 3
   },
   "file_extension": ".py",
   "mimetype": "text/x-python",
   "name": "python",
   "nbconvert_exporter": "python",
   "pygments_lexer": "ipython3",
   "version": "3.12.0"
  }
 },
 "nbformat": 4,
 "nbformat_minor": 2
}
