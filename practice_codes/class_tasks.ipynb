{
 "cells": [
  {
   "cell_type": "code",
   "execution_count": 10,
   "metadata": {},
   "outputs": [
    {
     "name": "stdout",
     "output_type": "stream",
     "text": [
      "Sum of even powers from x^0 to x^10: 1365.0\n"
     ]
    }
   ],
   "source": [
    "def sum_of_even_powers(x):\n",
    "    total = 0\n",
    "    for i in range(0, 11, 2):  # Range from 0 to 10 inclusive with step 2\n",
    "        total += x ** i\n",
    "    return total\n",
    "\n",
    "# Take input from the user\n",
    "x = float(input(\"Enter the value of x: \"))\n",
    "\n",
    "result = sum_of_even_powers(x)\n",
    "print(\"Sum of even powers from x^0 to x^10:\", result)\n",
    "\n",
    "\n",
    "\n"
   ]
  },
  {
   "cell_type": "code",
   "execution_count": 11,
   "metadata": {},
   "outputs": [
    {
     "name": "stdout",
     "output_type": "stream",
     "text": [
      "Sum of powers from x^0 to x^10: 2047.0\n"
     ]
    }
   ],
   "source": [
    "def sum_of_powers(x):\n",
    "    total = 0\n",
    "    for i in range(11):  # Range from 0 to 10 inclusive\n",
    "        total += x ** i\n",
    "    return total\n",
    "\n",
    "\n",
    "x = float(input(\"Enter the value of x: \"))\n",
    "\n",
    "result = sum_of_powers(x)\n",
    "\n",
    "print(\"Sum of powers from x^0 to x^10:\", result)"
   ]
  },
  {
   "cell_type": "code",
   "execution_count": 12,
   "metadata": {},
   "outputs": [
    {
     "name": "stdout",
     "output_type": "stream",
     "text": [
      "The result is: -19.0\n"
     ]
    }
   ],
   "source": [
    "x = float(input(\"Enter the value of x: \"))\n",
    "\n",
    "s = 1\n",
    "sign = 1  \n",
    "\n",
    "for i in range(2, 6):\n",
    "    term = sign * x ** i\n",
    "    s += term\n",
    "    sign *= -1  # Change the sign for the next term\n",
    "\n",
    "print(\"The result is:\", s)"
   ]
  }
 ],
 "metadata": {
  "kernelspec": {
   "display_name": "Python 3",
   "language": "python",
   "name": "python3"
  },
  "language_info": {
   "codemirror_mode": {
    "name": "ipython",
    "version": 3
   },
   "file_extension": ".py",
   "mimetype": "text/x-python",
   "name": "python",
   "nbconvert_exporter": "python",
   "pygments_lexer": "ipython3",
   "version": "3.12.0"
  }
 },
 "nbformat": 4,
 "nbformat_minor": 2
}
