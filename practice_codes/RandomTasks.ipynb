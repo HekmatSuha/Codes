{
 "cells": [
  {
   "cell_type": "code",
   "execution_count": 19,
   "metadata": {},
   "outputs": [
    {
     "name": "stdout",
     "output_type": "stream",
     "text": [
      "Random even number between 6 and 12: 10\n"
     ]
    }
   ],
   "source": [
    "#Task no1  of the Lecture\n",
    "\n",
    "import random\n",
    "\n",
    "def get_random_even_number():\n",
    "    while True:\n",
    "        number = random.randrange(6, 13)\n",
    "        match number % 2:\n",
    "            case 0:\n",
    "                return number\n",
    "\n",
    "random_even_number = get_random_even_number()\n",
    "print(f\"Random even number between 6 and 12: {random_even_number}\")"
   ]
  },
  {
   "cell_type": "code",
   "execution_count": 25,
   "metadata": {},
   "outputs": [
    {
     "name": "stdout",
     "output_type": "stream",
     "text": [
      "Random multiple of five between 5 and 100: 30\n"
     ]
    }
   ],
   "source": [
    "#Task no2 of the Lecture\n",
    "import random\n",
    "\n",
    "def get_random_multiple_of_five():\n",
    "    return random.randrange(1, 21) * 5\n",
    "\n",
    "random_multiple_of_five = get_random_multiple_of_five()\n",
    "\n",
    "match random_multiple_of_five:\n",
    "    case 5 | 10 | 15 | 20 | 25 | 30 | 35 | 40 | 45 | 50 | 55 | 60 | 65 | 70 | 75 | 80 | 85 | 90 | 95 | 100:\n",
    "        print(f\"Random multiple of five between 5 and 100: {random_multiple_of_five}\")\n",
    "    case _:\n",
    "        print(\"Generated number is not a multiple of five.\")"
   ]
  },
  {
   "cell_type": "code",
   "execution_count": 12,
   "metadata": {},
   "outputs": [
    {
     "name": "stdout",
     "output_type": "stream",
     "text": [
      "Thursday\n"
     ]
    }
   ],
   "source": [
    "#Task no1 of the Tasks 9 file\n",
    "def print_day_of_week(day_number):\n",
    "  \n",
    "  match day_number:\n",
    "    case 1:\n",
    "      print(\"Monday\")\n",
    "    case 2:\n",
    "      print(\"Tuesday\")\n",
    "    case 3:\n",
    "      print(\"Wednesday\")\n",
    "    case 4:\n",
    "      print(\"Thursday\")\n",
    "    case 5:\n",
    "      print(\"Friday\")\n",
    "    case 6:\n",
    "      print(\"Saturday\")\n",
    "    case 7:\n",
    "      print(\"Sunday\")\n",
    "    case _:  \n",
    "      print(\"Invalid day number. Please enter a number between 1 and 7.\")\n",
    "\n",
    "day_number = int(input(\"Enter a day number (1-7): \"))\n",
    "\n",
    "print_day_of_week(day_number)"
   ]
  },
  {
   "cell_type": "code",
   "execution_count": 13,
   "metadata": {},
   "outputs": [
    {
     "name": "stdout",
     "output_type": "stream",
     "text": [
      "satisfactory\n"
     ]
    }
   ],
   "source": [
    "#Task no2\n",
    "def print_rating(k):\n",
    "\n",
    "\n",
    "  match k:\n",
    "    case 1:\n",
    "      print(\"bad\")\n",
    "    case 2:\n",
    "      print(\"unsatisfactory\")\n",
    "    case 3:\n",
    "      print(\"satisfactory\")\n",
    "    case 4:\n",
    "      print(\"good\")\n",
    "    case 5:\n",
    "      print(\"excellent\")\n",
    "    case _:  \n",
    "      print(\"error\")\n",
    "\n",
    "\n",
    "k = int(input(\"Enter a rating (1-5): \"))\n",
    "\n",
    "print_rating(k)"
   ]
  },
  {
   "cell_type": "code",
   "execution_count": 14,
   "metadata": {},
   "outputs": [
    {
     "name": "stdout",
     "output_type": "stream",
     "text": [
      "winter\n"
     ]
    }
   ],
   "source": [
    "#Task no3\n",
    "def print_season(month_number):\n",
    "  \n",
    "  match month_number:\n",
    "    case 12 | 1 | 2:  # December, January, February\n",
    "      print(\"winter\")\n",
    "    case 3 | 4 | 5:  # March, April, May\n",
    "      print(\"spring\")\n",
    "    case 6 | 7 | 8:  # June, July, August\n",
    "      print(\"summer\")\n",
    "    case 9 | 10 | 11: # September, October, November\n",
    "      print(\"autumn\")\n",
    "    case _: \n",
    "      print(\"Invalid month number. Please enter a number between 1 and 12.\")\n",
    "\n",
    "\n",
    "month_number = int(input(\"Enter a month number (1-12): \"))\n",
    "\n",
    "\n",
    "print_season(month_number)"
   ]
  },
  {
   "cell_type": "code",
   "execution_count": 15,
   "metadata": {},
   "outputs": [
    {
     "name": "stdout",
     "output_type": "stream",
     "text": [
      "Result: 36.0\n"
     ]
    }
   ],
   "source": [
    "#Task no4\n",
    "def perform_arithmetic_operation(n, a, b):\n",
    "\n",
    "  match n:\n",
    "    case 1: # Addition\n",
    "      return a + b\n",
    "    case 2: # Subtraction\n",
    "      return a - b\n",
    "    case 3: # Multiplication\n",
    "      return a * b\n",
    "    case 4: # Division\n",
    "      if b != 0:\n",
    "        return a / b\n",
    "      else:\n",
    "        print(\"Error: Division by zero is not allowed.\")\n",
    "        return None\n",
    "    case _: \n",
    "      print(\"Invalid action number. Please enter a number between 1 and 4.\")\n",
    "      return None\n",
    "\n",
    "# Get input from the user\n",
    "n = int(input(\"Enter the action number (1-4): \"))\n",
    "a = float(input(\"Enter the first number (A): \"))\n",
    "b = float(input(\"Enter the second number (B, not equal to 0): \"))\n",
    "\n",
    "# Perform the operation and print the result\n",
    "result = perform_arithmetic_operation(n, a, b)\n",
    "\n",
    "if result is not None:\n",
    "  print(f\"Result: {result}\")"
   ]
  }
 ],
 "metadata": {
  "kernelspec": {
   "display_name": "Python 3",
   "language": "python",
   "name": "python3"
  },
  "language_info": {
   "codemirror_mode": {
    "name": "ipython",
    "version": 3
   },
   "file_extension": ".py",
   "mimetype": "text/x-python",
   "name": "python",
   "nbconvert_exporter": "python",
   "pygments_lexer": "ipython3",
   "version": "3.12.0"
  }
 },
 "nbformat": 4,
 "nbformat_minor": 2
}
