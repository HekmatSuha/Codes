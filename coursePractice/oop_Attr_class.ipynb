{
 "cells": [
  {
   "cell_type": "code",
   "execution_count": 8,
   "metadata": {},
   "outputs": [
    {
     "data": {
      "text/plain": [
       "'Sammy'"
      ]
     },
     "execution_count": 8,
     "metadata": {},
     "output_type": "execute_result"
    }
   ],
   "source": [
    "class Dog():\n",
    "    \n",
    "    def __init__(self,breed,name,spots):\n",
    "        \n",
    "        self.breed = breed\n",
    "        self.name = name\n",
    "\n",
    "        # Expect boolean True/False\n",
    "        self.spots = spots\n",
    "\n",
    "my_dog = Dog(breed='lab',name='Sammy',spots=False)\n",
    "\n",
    "type(my_dog)\n",
    "\n",
    "my_dog.breed\n",
    "my_dog.name\n"
   ]
  },
  {
   "cell_type": "code",
   "execution_count": 1,
   "metadata": {},
   "outputs": [
    {
     "name": "stdout",
     "output_type": "stream",
     "text": [
      "five\n"
     ]
    }
   ],
   "source": [
    "a= 15\n",
    "if a > 0 and a < 10:\n",
    "    print(\"one\")\n",
    "elif a < 0 and a > 10:\n",
    "    print(\"two\")\n",
    "elif a < 0 or a > 100:\n",
    "    print(\"three\")\n",
    "elif not a < 50:\n",
    "    print(\"four\")\n",
    "else:\n",
    "    print(\"five\")"
   ]
  },
  {
   "cell_type": "code",
   "execution_count": 2,
   "metadata": {},
   "outputs": [
    {
     "name": "stdout",
     "output_type": "stream",
     "text": [
      "two\n"
     ]
    }
   ],
   "source": [
    "num = 0\n",
    "if not num >= 0:\n",
    "    print(\"one\")\n",
    "elif num == 0:\n",
    "    print(\"two\")\n",
    "elif not num < 10:\n",
    "    print(\"three\")\n",
    "else:\n",
    "    print(\"four\")\n"
   ]
  },
  {
   "cell_type": "code",
   "execution_count": 4,
   "metadata": {},
   "outputs": [
    {
     "name": "stdout",
     "output_type": "stream",
     "text": [
      "three\n"
     ]
    }
   ],
   "source": [
    "num= 15\n",
    "if not num >= 0:\n",
    "    print(\"one\")\n",
    "elif num == 0:\n",
    "    print(\"two\")\n",
    "elif not num < 10:\n",
    "    print(\"three\")\n",
    "else:\n",
    "    print(\"four\")\n"
   ]
  },
  {
   "cell_type": "code",
   "execution_count": 2,
   "metadata": {},
   "outputs": [
    {
     "name": "stdout",
     "output_type": "stream",
     "text": [
      "1\n",
      "2\n",
      "3\n",
      "4\n",
      "5\n"
     ]
    }
   ],
   "source": [
    "count = 1\n",
    "\n",
    "while count <= 5:\n",
    "    print(count)\n",
    "    count += 1\n",
    "    "
   ]
  },
  {
   "cell_type": "code",
   "execution_count": 5,
   "metadata": {},
   "outputs": [
    {
     "name": "stdout",
     "output_type": "stream",
     "text": [
      "T(1.0471975511965976) = 0.5000000000000001\n"
     ]
    }
   ],
   "source": [
    "import math\n",
    "\n",
    "def T(r):\n",
    "    return math.cos(r)\n",
    "\n",
    "r = math.pi/3\n",
    "\n",
    "result = T(r)\n",
    "\n",
    "print(f\"T({r}) = {result}\")"
   ]
  },
  {
   "cell_type": "code",
   "execution_count": 9,
   "metadata": {},
   "outputs": [
    {
     "name": "stdout",
     "output_type": "stream",
     "text": [
      "the result of 34 is equal to 68\n"
     ]
    }
   ],
   "source": [
    "def f(x):\n",
    "    if x > 0:\n",
    "        return 2 * x\n",
    "    else:\n",
    "        6 - x\n",
    "\n",
    "\n",
    "x = int(input(\"Please Enter your integer value: \"))\n",
    "\n",
    "result = f(x)\n",
    "\n",
    "print(f'the result of {x} is equal to {result}')"
   ]
  },
  {
   "cell_type": "code",
   "execution_count": 10,
   "metadata": {},
   "outputs": [
    {
     "name": "stdout",
     "output_type": "stream",
     "text": [
      "The elements in Lab1 greater than 10 are:  [20, 34, 24]\n"
     ]
    }
   ],
   "source": [
    "Lab1 = [6,20,34,24]\n",
    "Lab = [x for x in Lab1 if x > 10]\n",
    "\n",
    "print(\"The elements in Lab1 greater than 10 are: \",Lab)\n"
   ]
  },
  {
   "cell_type": "code",
   "execution_count": 11,
   "metadata": {},
   "outputs": [
    {
     "name": "stdout",
     "output_type": "stream",
     "text": [
      "20\n",
      "34\n",
      "24\n"
     ]
    }
   ],
   "source": [
    "Lab1 = [6,20,34,24]\n",
    "\n",
    "for x in Lab1:\n",
    "    if x > 10:\n",
    "        print(x)"
   ]
  },
  {
   "cell_type": "code",
   "execution_count": 35,
   "metadata": {},
   "outputs": [
    {
     "ename": "",
     "evalue": "",
     "output_type": "error",
     "traceback": [
      "\u001b[1;31mThe Kernel crashed while executing code in the current cell or a previous cell. \n",
      "\u001b[1;31mPlease review the code in the cell(s) to identify a possible cause of the failure. \n",
      "\u001b[1;31mClick <a href='https://aka.ms/vscodeJupyterKernelCrash'>here</a> for more info. \n",
      "\u001b[1;31mView Jupyter <a href='command:jupyter.viewOutput'>log</a> for further details."
     ]
    }
   ],
   "source": [
    "from tkinter import*\n",
    "\n",
    "\n",
    "def change_color():\n",
    "    Button.config(bg='red')\n",
    "\n",
    "\n",
    "window = Tk()\n",
    "window.title(\"Welcome to out first graphical interface\")\n",
    "window.geometry(\"300x200\")\n",
    "\n",
    "btn = Button(window,text='Click me',bg='lightblue',command=change_color)\n",
    "btn.grid(column=1,row=0)\n",
    "\n",
    "window.mainloop()"
   ]
  },
  {
   "cell_type": "code",
   "execution_count": 9,
   "metadata": {},
   "outputs": [],
   "source": [
    "from tkinter import*\n",
    "\n",
    "def change_color():\n",
    "    btn.config(bg=\"red\")\n",
    "\n",
    "root = Tk()\n",
    "root.title(\"Hello\")\n",
    "\n",
    "btn = Button(root,text=\"click me\",bg=\"blue\",command=change_color)\n",
    "btn.pack(pady=50)\n",
    "\n",
    "window.mainloop()"
   ]
  },
  {
   "cell_type": "code",
   "execution_count": 10,
   "metadata": {},
   "outputs": [
    {
     "name": "stdout",
     "output_type": "stream",
     "text": [
      "welcome and Hello  to you Mr.Hekmat\n"
     ]
    }
   ],
   "source": [
    "greeting = \"Hello \"\n",
    "name = 'Hekmat'\n",
    "\n",
    "print(f'welcome and {greeting} to you Mr.{name}')"
   ]
  }
 ],
 "metadata": {
  "kernelspec": {
   "display_name": "Python 3",
   "language": "python",
   "name": "python3"
  },
  "language_info": {
   "codemirror_mode": {
    "name": "ipython",
    "version": 3
   },
   "file_extension": ".py",
   "mimetype": "text/x-python",
   "name": "python",
   "nbconvert_exporter": "python",
   "pygments_lexer": "ipython3",
   "version": "3.12.0"
  }
 },
 "nbformat": 4,
 "nbformat_minor": 2
}
