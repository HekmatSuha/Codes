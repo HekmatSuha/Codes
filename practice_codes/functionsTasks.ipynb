{
 "cells": [
  {
   "cell_type": "code",
   "execution_count": 1,
   "metadata": {},
   "outputs": [
    {
     "name": "stdout",
     "output_type": "stream",
     "text": [
      "12: True\n"
     ]
    }
   ],
   "source": [
    "#Task no 1\n",
    "def is_positive_and_even(number):\n",
    "\n",
    "\n",
    "  return number > 0 and number % 2 == 0\n",
    "\n",
    "number = int(input(\"Enter a number: \"))\n",
    "\n",
    "result = is_positive_and_even(number)\n",
    "print(f\"{number}: {result}\")"
   ]
  },
  {
   "cell_type": "code",
   "execution_count": 2,
   "metadata": {},
   "outputs": [
    {
     "name": "stdout",
     "output_type": "stream",
     "text": [
      "1\n",
      "2\n",
      "3\n",
      "4\n",
      "5\n",
      "-----\n",
      "10\n",
      "11\n",
      "12\n",
      "13\n",
      "14\n",
      "15\n",
      "-----\n",
      "Error: 'a' must be less than 'b'\n"
     ]
    }
   ],
   "source": [
    "#Task no 2\n",
    "def print_range(a, b):\n",
    "\n",
    "  if a >= b:\n",
    "    print(\"Error: 'a' must be less than 'b'\")\n",
    "    return\n",
    "\n",
    "  for number in range(a, b + 1):\n",
    "    print(number)\n",
    "\n",
    "print_range(1, 5)  \n",
    "print(\"-----\")\n",
    "print_range(10, 15)\n",
    "print(\"-----\")\n",
    "print_range(5, 2)  "
   ]
  },
  {
   "cell_type": "code",
   "execution_count": 3,
   "metadata": {},
   "outputs": [
    {
     "name": "stdout",
     "output_type": "stream",
     "text": [
      "Number of odd values: 5\n"
     ]
    }
   ],
   "source": [
    "#Task no 3\n",
    "def count_odd_numbers(numbers):\n",
    "\n",
    "  count = 0\n",
    "  for number in numbers:\n",
    "    if number % 2 != 0:  \n",
    "      count += 1\n",
    "  return count\n",
    "\n",
    "numbers = [1, 2, 3, 4, 5, 6, 7, 8, 9, 10]\n",
    "odd_count = count_odd_numbers(numbers)\n",
    "\n",
    "print(\"Number of odd values:\", odd_count)"
   ]
  }
 ],
 "metadata": {
  "kernelspec": {
   "display_name": "Python 3",
   "language": "python",
   "name": "python3"
  },
  "language_info": {
   "codemirror_mode": {
    "name": "ipython",
    "version": 3
   },
   "file_extension": ".py",
   "mimetype": "text/x-python",
   "name": "python",
   "nbconvert_exporter": "python",
   "pygments_lexer": "ipython3",
   "version": "3.12.0"
  }
 },
 "nbformat": 4,
 "nbformat_minor": 2
}
